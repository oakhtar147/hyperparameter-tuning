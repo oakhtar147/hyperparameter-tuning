{
  "nbformat": 4,
  "nbformat_minor": 0,
  "metadata": {
    "colab": {
      "name": "finalized-aisaratuners.ipynb",
      "provenance": [],
      "collapsed_sections": [],
      "include_colab_link": true
    },
    "kernelspec": {
      "name": "python3",
      "display_name": "Python 3"
    },
    "accelerator": "GPU"
  },
  "cells": [
    {
      "cell_type": "markdown",
      "metadata": {
        "id": "view-in-github",
        "colab_type": "text"
      },
      "source": [
        "<a href=\"https://colab.research.google.com/github/oakhtar147/hyperparameter-tuning/blob/main/aisaratuners.ipynb\" target=\"_parent\"><img src=\"https://colab.research.google.com/assets/colab-badge.svg\" alt=\"Open In Colab\"/></a>"
      ]
    },
    {
      "cell_type": "code",
      "metadata": {
        "id": "U-0bshwy1pEt"
      },
      "source": [
        "from IPython.display import clear_output"
      ],
      "execution_count": null,
      "outputs": []
    },
    {
      "cell_type": "code",
      "metadata": {
        "id": "Qw5qBHq6FWcK"
      },
      "source": [
        "!pip install aisaratuners\n",
        "clear_output()"
      ],
      "execution_count": null,
      "outputs": []
    },
    {
      "cell_type": "code",
      "metadata": {
        "id": "JZrFEZpuFmjA"
      },
      "source": [
        "from aisaratuners.aisara_keras_tuner import Hp, HpOptimization\n",
        "from tensorflow.keras.datasets import fashion_mnist\n",
        "from tensorflow.keras.utils import to_categorical\n",
        "from tensorflow.keras import backend\n",
        "from tensorflow.keras.models import Sequential\n",
        "from tensorflow.keras.layers import Dense, Dropout, Flatten, BatchNormalization\n",
        "from tensorflow.keras.layers import Conv2D, MaxPooling2D\n",
        "from tensorflow.keras import optimizers\n",
        "\n",
        "import matplotlib.pyplot as plt\n",
        "import time"
      ],
      "execution_count": null,
      "outputs": []
    },
    {
      "cell_type": "code",
      "metadata": {
        "id": "S5NnPTvhFohB",
        "colab": {
          "base_uri": "https://localhost:8080/"
        },
        "outputId": "f736b98d-005b-416c-dff0-a890485d5dc4"
      },
      "source": [
        "#load Mnist dataset and visualize the first 10 pics in training and testing\n",
        "(X_train, y_train), (X_test,y_test) = fashion_mnist.load_data() "
      ],
      "execution_count": null,
      "outputs": [
        {
          "output_type": "stream",
          "text": [
            "Downloading data from https://storage.googleapis.com/tensorflow/tf-keras-datasets/train-labels-idx1-ubyte.gz\n",
            "32768/29515 [=================================] - 0s 0us/step\n",
            "Downloading data from https://storage.googleapis.com/tensorflow/tf-keras-datasets/train-images-idx3-ubyte.gz\n",
            "26427392/26421880 [==============================] - 0s 0us/step\n",
            "Downloading data from https://storage.googleapis.com/tensorflow/tf-keras-datasets/t10k-labels-idx1-ubyte.gz\n",
            "8192/5148 [===============================================] - 0s 0us/step\n",
            "Downloading data from https://storage.googleapis.com/tensorflow/tf-keras-datasets/t10k-images-idx3-ubyte.gz\n",
            "4423680/4422102 [==============================] - 0s 0us/step\n"
          ],
          "name": "stdout"
        }
      ]
    },
    {
      "cell_type": "code",
      "metadata": {
        "id": "ZhNjT_q-BovA"
      },
      "source": [
        "class_mapping = {0: 'T-shirt/top', \r\n",
        "    1: 'Trouser', \r\n",
        "    2: 'Pullover', \r\n",
        "    3: 'Dress', \r\n",
        "    4: 'Coat', \r\n",
        "    5: 'Sandal',\r\n",
        "    6: 'Shirt',\r\n",
        "    7: 'Sneaker',\r\n",
        "    8: 'Bag',\r\n",
        "    9: 'Ankle boot'\r\n",
        "    }"
      ],
      "execution_count": null,
      "outputs": []
    },
    {
      "cell_type": "code",
      "metadata": {
        "colab": {
          "base_uri": "https://localhost:8080/",
          "height": 226
        },
        "id": "OoCI02DKAPir",
        "outputId": "273f1893-162a-4d02-8c2e-0518f8645dfc"
      },
      "source": [
        "fig = plt.figure(figsize=(10,10))\r\n",
        "print(\"Train Images\")\r\n",
        "for i in range(3):\r\n",
        "    plt.subplot(1,3,i+1)\r\n",
        "    plt.xticks([])\r\n",
        "    plt.yticks([])\r\n",
        "    plt.grid(False)\r\n",
        "    plt.imshow(X_train[i], cmap=plt.cm.binary)\r\n",
        "    plt.xlabel(class_mapping[y_train[i]])"
      ],
      "execution_count": null,
      "outputs": [
        {
          "output_type": "stream",
          "text": [
            "Train Images\n"
          ],
          "name": "stdout"
        },
        {
          "output_type": "display_data",
          "data": {
            "image/png": "[encoded data removed]",
            "text/plain": [
              "<Figure size 720x720 with 3 Axes>"
            ]
          },
          "metadata": {
            "tags": []
          }
        }
      ]
    },
    {
      "cell_type": "code",
      "metadata": {
        "colab": {
          "base_uri": "https://localhost:8080/",
          "height": 226
        },
        "id": "eJniAQF5DKVy",
        "outputId": "3ad206c0-7c83-4b23-f9f6-90b81944bd63"
      },
      "source": [
        "fig = plt.figure(figsize=(10,10))\r\n",
        "print(\"Test Images\")\r\n",
        "for i in range(3):\r\n",
        "    plt.subplot(1,3,i+1)\r\n",
        "    plt.xticks([])\r\n",
        "    plt.yticks([])\r\n",
        "    plt.grid(False)\r\n",
        "    plt.imshow(X_test[i], cmap=plt.cm.binary)\r\n",
        "    plt.xlabel(class_mapping[y_test[i]])"
      ],
      "execution_count": null,
      "outputs": [
        {
          "output_type": "stream",
          "text": [
            "Test Images\n"
          ],
          "name": "stdout"
        },
        {
          "output_type": "display_data",
          "data": {
            "image/png": "[encoded data removed]",
            "text/plain": [
              "<Figure size 720x720 with 3 Axes>"
            ]
          },
          "metadata": {
            "tags": []
          }
        }
      ]
    },
    {
      "cell_type": "code",
      "metadata": {
        "id": "ox0t2cKcFq0b"
      },
      "source": [
        "# data normalization and preparation\n",
        "X_train /= 255.\n",
        "X_test /= 255.\n",
        "\n",
        "y_train = to_categorical(y_train,)\n",
        "y_test = to_categorical(y_test)\n",
        "\n",
        "IMG_ROWS, IMG_COLS = 28, 28\n",
        "if backend.image_data_format() == 'channels_first':\n",
        "    X_train = X_train.reshape(X_train.shape[0], 1, IMG_ROWS, IMG_COLS)\n",
        "    X_test = x_test.reshape(X_test.shape[0], 1, IMG_ROWS, IMG_COLS)\n",
        "    input_shape = (1, IMG_ROWS, IMG_COLS)\n",
        "else:\n",
        "    X_train = X_train.reshape(X_train.shape[0], IMG_ROWS, IMG_COLS, 1)\n",
        "    X_test = X_test.reshape(X_test.shape[0], IMG_ROWS, IMG_COLS, 1)\n",
        "    input_shape = (IMG_ROWS, IMG_COLS, 1)"
      ],
      "execution_count": null,
      "outputs": []
    },
    {
      "cell_type": "code",
      "metadata": {
        "id": "Rwf4Gy2MFuOB"
      },
      "source": [
        "# define Hps:\n",
        "my_hps = Hp()\n",
        "hp_1 = my_hps.numrange(name='num_layers_conv',min=2,max=5)\n",
        "hp_2 = my_hps.numrange(name='num_conv_filters', min=32, max=256)\n",
        "hp_3 = my_hps.numrange(name='nodes_dense',min=10,max=200)\n",
        "hp_4 = my_hps.numrange(name='lr',min=0.0001,max=0.01, type='log')"
      ],
      "execution_count": null,
      "outputs": []
    },
    {
      "cell_type": "code",
      "metadata": {
        "id": "a9i4j0hfF3En"
      },
      "source": [
        "# define keras model and return model history\n",
        "def myfunc(hps, k):\n",
        "    model = Sequential()\n",
        "    model.add(Conv2D(32, kernel_size=(3, 3),activation='relu',input_shape=input_shape,padding='same'))\n",
        "    for layer in range(hps['num_layers_conv'][k]):\n",
        "        model.add(Conv2D(hps['num_conv_filters'][k], (3, 3), activation='relu',padding='same'))\n",
        "    model.add(BatchNormalization())    \n",
        "    model.add(MaxPooling2D(pool_size=(2, 2)))\n",
        "    model.add(Flatten())\n",
        "    model.add(Dense(hps['nodes_dense'][k], activation='relu'))\n",
        "    model.add(Dropout(0.2))\n",
        "    model.add(Dense(10, activation='softmax'))\n",
        "    model.compile(loss='categorical_crossentropy', optimizer=optimizers.Adam(hps['lr'][k]),metrics=['acc'])\n",
        "    history = model.fit(x_train,y_train,epochs=3, batch_size=128,validation_data=(x_test,y_test))\n",
        "    return model, history"
      ],
      "execution_count": null,
      "outputs": []
    },
    {
      "cell_type": "code",
      "metadata": {
        "id": "LVm5x-G_F58c",
        "colab": {
          "base_uri": "https://localhost:8080/"
        },
        "outputId": "3a1190f7-87d4-4c8b-dfeb-95e09c12427f"
      },
      "source": [
        "# run optimizer\n",
        "demo = HpOptimization(my_hps, myfunc, ['val_acc','val_loss'], ['max','min'], num_trials=5, rounds=3, mode='p')\n",
        "demo.run_opti()"
      ],
      "execution_count": null,
      "outputs": [
        {
          "output_type": "stream",
          "text": [
            "\u001b[1mFor commercial use, you can obtain our API from https://rapidapi.com/aisara-technology-aisara-technology-default/api/aisara-hyperparameter-tuning\n",
            "If you are a private user, set the mode parameter in HpOptimization class to \"p\".\n",
            "\u001b[0m\n",
            "\u001b[1m\u001b[94mRound-1:\u001b[0m\n",
            "\n",
            "\u001b[1m\u001b[92m  Run-1:\u001b[0m\n",
            "Epoch 1/3\n",
            "  2/469 [..............................] - ETA: 12s - loss: 2.7499 - acc: 0.1719WARNING:tensorflow:Callbacks method `on_train_batch_end` is slow compared to the batch time (batch time: 0.0186s vs `on_train_batch_end` time: 0.0317s). Check your callbacks.\n",
            "469/469 [==============================] - 23s 50ms/step - loss: 0.4101 - acc: 0.8528 - val_loss: 0.3696 - val_acc: 0.8769\n",
            "Epoch 2/3\n",
            "469/469 [==============================] - 23s 49ms/step - loss: 0.2476 - acc: 0.9101 - val_loss: 0.2605 - val_acc: 0.9050\n",
            "Epoch 3/3\n",
            "469/469 [==============================] - 23s 49ms/step - loss: 0.1978 - acc: 0.9272 - val_loss: 0.2416 - val_acc: 0.9107\n",
            "\n",
            "\u001b[1m\u001b[92m  Run-2:\u001b[0m\n",
            "Epoch 1/3\n",
            "469/469 [==============================] - 12s 26ms/step - loss: 0.3948 - acc: 0.8582 - val_loss: 0.5839 - val_acc: 0.8862\n",
            "Epoch 2/3\n",
            "469/469 [==============================] - 12s 26ms/step - loss: 0.2403 - acc: 0.9133 - val_loss: 0.2347 - val_acc: 0.9183\n",
            "Epoch 3/3\n",
            "469/469 [==============================] - 12s 26ms/step - loss: 0.1841 - acc: 0.9331 - val_loss: 0.2109 - val_acc: 0.9228\n",
            "\n",
            "\u001b[1m\u001b[92m  Run-3:\u001b[0m\n",
            "Epoch 1/3\n",
            "  1/469 [..............................] - ETA: 0s - loss: 2.2917 - acc: 0.1797WARNING:tensorflow:Callbacks method `on_train_batch_end` is slow compared to the batch time (batch time: 0.0153s vs `on_train_batch_end` time: 0.0230s). Check your callbacks.\n",
            "469/469 [==============================] - 18s 39ms/step - loss: 0.4521 - acc: 0.8512 - val_loss: 0.6382 - val_acc: 0.8438\n",
            "Epoch 2/3\n",
            "469/469 [==============================] - 18s 38ms/step - loss: 0.2651 - acc: 0.9031 - val_loss: 0.3292 - val_acc: 0.8914\n",
            "Epoch 3/3\n",
            "469/469 [==============================] - 18s 38ms/step - loss: 0.2362 - acc: 0.9137 - val_loss: 0.3960 - val_acc: 0.8801\n",
            "\n",
            "\u001b[1m\u001b[92m  Run-4:\u001b[0m\n",
            "Epoch 1/3\n",
            "469/469 [==============================] - 4s 9ms/step - loss: 0.3828 - acc: 0.8637 - val_loss: 0.5476 - val_acc: 0.8974\n",
            "Epoch 2/3\n",
            "469/469 [==============================] - 4s 9ms/step - loss: 0.2355 - acc: 0.9142 - val_loss: 0.2327 - val_acc: 0.9112\n",
            "Epoch 3/3\n",
            "469/469 [==============================] - 4s 9ms/step - loss: 0.1818 - acc: 0.9321 - val_loss: 0.2325 - val_acc: 0.9169\n",
            "\n",
            "\u001b[1m\u001b[92m  Run-5:\u001b[0m\n",
            "Epoch 1/3\n",
            "  2/469 [..............................] - ETA: 14s - loss: 14.2124 - acc: 0.1562WARNING:tensorflow:Callbacks method `on_train_batch_end` is slow compared to the batch time (batch time: 0.0209s vs `on_train_batch_end` time: 0.0383s). Check your callbacks.\n",
            "469/469 [==============================] - 29s 62ms/step - loss: 1.8380 - acc: 0.3337 - val_loss: 1.3119 - val_acc: 0.4526\n",
            "Epoch 2/3\n",
            "469/469 [==============================] - 29s 61ms/step - loss: 1.3992 - acc: 0.4109 - val_loss: 1.2766 - val_acc: 0.4535\n",
            "Epoch 3/3\n",
            "469/469 [==============================] - 29s 61ms/step - loss: 1.3092 - acc: 0.4429 - val_loss: 1.1827 - val_acc: 0.4892\n",
            "\u001b[1m\n",
            "\n",
            "search space boundaries:\n",
            "\u001b[0m      num_layers_conv  num_conv_filters  nodes_dense      lr\n",
            "min                2                32           10  0.0001\n",
            "max                5               256          200  0.0100 \n",
            "\n",
            "\u001b[1mhyperparameters combinations (lHC):\n",
            "\u001b[0m  num_layers_conv  num_conv_filters  nodes_dense        lr\n",
            "               3               234           67  0.001000\n",
            "               4                99          143  0.000158\n",
            "               4               144          181  0.002512\n",
            "               2                54          105  0.000398\n",
            "               5               189           29  0.006310 \n",
            "\n",
            "\u001b[1mmodels results:\n",
            "\u001b[0m\u001b[0m  num_layers_conv  num_conv_filters  nodes_dense        lr      loss       acc  val_loss  val_acc\n",
            "               3               234           67  0.001000  0.197828  0.927183  0.241566   0.9107\n",
            "               4                99          143  0.000158  0.184091  0.933100  0.210904   0.9228\n",
            "               4               144          181  0.002512  0.236200  0.913717  0.395997   0.8801\n",
            "               2                54          105  0.000398  0.181810  0.932083  0.232517   0.9169\n",
            "               5               189           29  0.006310  1.309202  0.442933  1.182737   0.4892\n",
            "\u001b[1m\n",
            "working on the creation of reduced search space boundaries for the next round, pls wait this might take some time\u001b[0m\n",
            "\n",
            "\u001b[1m\u001b[95mAisara_max_error Run:\u001b[0m\n",
            "Epoch 1/3\n",
            "469/469 [==============================] - 5s 11ms/step - loss: 1.6597 - acc: 0.3330 - val_loss: 1.3270 - val_acc: 0.4569\n",
            "Epoch 2/3\n",
            "469/469 [==============================] - 5s 10ms/step - loss: 1.2826 - acc: 0.4624 - val_loss: 0.9811 - val_acc: 0.5695\n",
            "Epoch 3/3\n",
            "469/469 [==============================] - 5s 10ms/step - loss: 0.9413 - acc: 0.6296 - val_loss: 0.7356 - val_acc: 0.7374\n",
            "\n",
            "\u001b[1m\u001b[94mRound-2:\u001b[0m\n",
            "\n",
            "\u001b[1m\u001b[92m  Run-1:\u001b[0m\n",
            "Epoch 1/3\n",
            "  1/469 [..............................] - ETA: 1s - loss: 2.4010 - acc: 0.0625WARNING:tensorflow:Callbacks method `on_train_batch_end` is slow compared to the batch time (batch time: 0.0151s vs `on_train_batch_end` time: 0.0248s). Check your callbacks.\n",
            "469/469 [==============================] - 19s 41ms/step - loss: 0.3767 - acc: 0.8649 - val_loss: 0.5891 - val_acc: 0.9018\n",
            "Epoch 2/3\n",
            "469/469 [==============================] - 19s 41ms/step - loss: 0.2211 - acc: 0.9195 - val_loss: 0.2168 - val_acc: 0.9220\n",
            "Epoch 3/3\n",
            "469/469 [==============================] - 19s 41ms/step - loss: 0.1718 - acc: 0.9367 - val_loss: 0.2162 - val_acc: 0.9230\n",
            "\n",
            "\u001b[1m\u001b[92m  Run-2:\u001b[0m\n",
            "Epoch 1/3\n",
            "469/469 [==============================] - 6s 13ms/step - loss: 0.4341 - acc: 0.8451 - val_loss: 0.5937 - val_acc: 0.8893\n",
            "Epoch 2/3\n",
            "469/469 [==============================] - 6s 13ms/step - loss: 0.2647 - acc: 0.9034 - val_loss: 0.2697 - val_acc: 0.9022\n",
            "Epoch 3/3\n",
            "469/469 [==============================] - 6s 13ms/step - loss: 0.2112 - acc: 0.9230 - val_loss: 0.2345 - val_acc: 0.9146\n",
            "\n",
            "\u001b[1m\u001b[92m  Run-3:\u001b[0m\n",
            "Epoch 1/3\n",
            "469/469 [==============================] - 14s 29ms/step - loss: 0.3965 - acc: 0.8589 - val_loss: 0.5822 - val_acc: 0.8955\n",
            "Epoch 2/3\n",
            "469/469 [==============================] - 13s 29ms/step - loss: 0.2424 - acc: 0.9128 - val_loss: 0.2470 - val_acc: 0.9084\n",
            "Epoch 3/3\n",
            "469/469 [==============================] - 13s 29ms/step - loss: 0.1910 - acc: 0.9303 - val_loss: 0.2157 - val_acc: 0.9221\n",
            "\n",
            "\u001b[1m\u001b[92m  Run-4:\u001b[0m\n",
            "Epoch 1/3\n",
            "469/469 [==============================] - 12s 26ms/step - loss: 0.3766 - acc: 0.8643 - val_loss: 0.6048 - val_acc: 0.9008\n",
            "Epoch 2/3\n",
            "469/469 [==============================] - 12s 26ms/step - loss: 0.2202 - acc: 0.9196 - val_loss: 0.2220 - val_acc: 0.9180\n",
            "Epoch 3/3\n",
            "469/469 [==============================] - 12s 25ms/step - loss: 0.1671 - acc: 0.9393 - val_loss: 0.2205 - val_acc: 0.9194\n",
            "\n",
            "\u001b[1m\u001b[92m  Run-5:\u001b[0m\n",
            "Epoch 1/3\n",
            "469/469 [==============================] - 9s 20ms/step - loss: 0.4022 - acc: 0.8555 - val_loss: 0.5670 - val_acc: 0.8955\n",
            "Epoch 2/3\n",
            "469/469 [==============================] - 9s 19ms/step - loss: 0.2483 - acc: 0.9100 - val_loss: 0.2466 - val_acc: 0.9059\n",
            "Epoch 3/3\n",
            "469/469 [==============================] - 9s 19ms/step - loss: 0.1965 - acc: 0.9279 - val_loss: 0.2244 - val_acc: 0.9171\n",
            "\u001b[1m\n",
            "\n",
            "search space boundaries:\n",
            "\u001b[0m      num_layers_conv  num_conv_filters  nodes_dense        lr\n",
            "min                4                34           87  0.000142\n",
            "max                4               164          199  0.000177 \n",
            "\n",
            "\u001b[1mhyperparameters combinations (lHC):\n",
            "\u001b[0m  num_layers_conv  num_conv_filters  nodes_dense        lr\n",
            "               4               151          143  0.000165\n",
            "               4                47          165  0.000152\n",
            "               4               125           98  0.000158\n",
            "               4                99          188  0.000173\n",
            "               4                73          121  0.000145 \n",
            "\n",
            "\u001b[1mmodels results:\n",
            "\u001b[0m\u001b[0m  num_layers_conv  num_conv_filters  nodes_dense        lr      loss       acc  val_loss  val_acc\n",
            "               4               151          143  0.000165  0.171800  0.936683  0.216180   0.9230\n",
            "               4                47          165  0.000152  0.211199  0.922967  0.234451   0.9146\n",
            "               4               125           98  0.000158  0.191022  0.930300  0.215708   0.9221\n",
            "               4                99          188  0.000173  0.167068  0.939333  0.220544   0.9194\n",
            "               4                73          121  0.000145  0.196473  0.927867  0.224365   0.9171\n",
            "\u001b[1m\n",
            "working on the creation of reduced search space boundaries for the next round, pls wait this might take some time\u001b[0m\n",
            "\n",
            "\u001b[1m\u001b[95mAisara_max_error Run:\u001b[0m\n",
            "Epoch 1/3\n",
            "  1/469 [..............................] - ETA: 1s - loss: 2.4462 - acc: 0.0859WARNING:tensorflow:Callbacks method `on_train_batch_end` is slow compared to the batch time (batch time: 0.0150s vs `on_train_batch_end` time: 0.0267s). Check your callbacks.\n",
            "469/469 [==============================] - 20s 43ms/step - loss: 0.4050 - acc: 0.8557 - val_loss: 0.5126 - val_acc: 0.8924\n",
            "Epoch 2/3\n",
            "469/469 [==============================] - 20s 43ms/step - loss: 0.2467 - acc: 0.9108 - val_loss: 0.2352 - val_acc: 0.9125\n",
            "Epoch 3/3\n",
            "469/469 [==============================] - 20s 43ms/step - loss: 0.1920 - acc: 0.9306 - val_loss: 0.2350 - val_acc: 0.9185\n",
            "\n",
            "\u001b[1m\u001b[94mRound-3:\u001b[0m\n",
            "\n",
            "\u001b[1m\u001b[92m  Run-1:\u001b[0m\n",
            "Epoch 1/3\n",
            "  1/469 [..............................] - ETA: 12s - loss: 2.3784 - acc: 0.0938WARNING:tensorflow:Callbacks method `on_train_batch_end` is slow compared to the batch time (batch time: 0.0147s vs `on_train_batch_end` time: 0.0267s). Check your callbacks.\n",
            "469/469 [==============================] - 19s 41ms/step - loss: 0.3744 - acc: 0.8642 - val_loss: 0.5548 - val_acc: 0.8889\n",
            "Epoch 2/3\n",
            "469/469 [==============================] - 19s 41ms/step - loss: 0.2223 - acc: 0.9185 - val_loss: 0.2249 - val_acc: 0.9153\n",
            "Epoch 3/3\n",
            "469/469 [==============================] - 19s 41ms/step - loss: 0.1706 - acc: 0.9376 - val_loss: 0.2146 - val_acc: 0.9220\n",
            "\n",
            "\u001b[1m\u001b[92m  Run-2:\u001b[0m\n",
            "Epoch 1/3\n",
            "  1/469 [..............................] - ETA: 1s - loss: 2.6166 - acc: 0.0625WARNING:tensorflow:Callbacks method `on_train_batch_end` is slow compared to the batch time (batch time: 0.0136s vs `on_train_batch_end` time: 0.0244s). Check your callbacks.\n",
            "469/469 [==============================] - 19s 40ms/step - loss: 0.3905 - acc: 0.8599 - val_loss: 0.5189 - val_acc: 0.8968\n",
            "Epoch 2/3\n",
            "469/469 [==============================] - 18s 39ms/step - loss: 0.2322 - acc: 0.9152 - val_loss: 0.2215 - val_acc: 0.9187\n",
            "Epoch 3/3\n",
            "469/469 [==============================] - 18s 39ms/step - loss: 0.1782 - acc: 0.9346 - val_loss: 0.2111 - val_acc: 0.9246\n",
            "\n",
            "\u001b[1m\u001b[92m  Run-3:\u001b[0m\n",
            "Epoch 1/3\n",
            "  1/469 [..............................] - ETA: 1s - loss: 2.3246 - acc: 0.1172WARNING:tensorflow:Callbacks method `on_train_batch_end` is slow compared to the batch time (batch time: 0.0148s vs `on_train_batch_end` time: 0.0252s). Check your callbacks.\n",
            "469/469 [==============================] - 20s 42ms/step - loss: 0.3798 - acc: 0.8625 - val_loss: 0.5115 - val_acc: 0.9005\n",
            "Epoch 2/3\n",
            "469/469 [==============================] - 19s 41ms/step - loss: 0.2281 - acc: 0.9180 - val_loss: 0.2371 - val_acc: 0.9164\n",
            "Epoch 3/3\n",
            "469/469 [==============================] - 19s 41ms/step - loss: 0.1764 - acc: 0.9352 - val_loss: 0.2203 - val_acc: 0.9225\n",
            "\n",
            "\u001b[1m\u001b[92m  Run-4:\u001b[0m\n",
            "Epoch 1/3\n",
            "469/469 [==============================] - 19s 41ms/step - loss: 0.3784 - acc: 0.8644 - val_loss: 0.5361 - val_acc: 0.9022\n",
            "Epoch 2/3\n",
            "469/469 [==============================] - 19s 40ms/step - loss: 0.2218 - acc: 0.9192 - val_loss: 0.2280 - val_acc: 0.9154\n",
            "Epoch 3/3\n",
            "469/469 [==============================] - 19s 40ms/step - loss: 0.1723 - acc: 0.9361 - val_loss: 0.2022 - val_acc: 0.9245\n",
            "\n",
            "\u001b[1m\u001b[92m  Run-5:\u001b[0m\n",
            "Epoch 1/3\n",
            "469/469 [==============================] - 19s 40ms/step - loss: 0.3729 - acc: 0.8652 - val_loss: 0.5812 - val_acc: 0.8829\n",
            "Epoch 2/3\n",
            "469/469 [==============================] - 18s 39ms/step - loss: 0.2211 - acc: 0.9194 - val_loss: 0.2159 - val_acc: 0.9202\n",
            "Epoch 3/3\n",
            "469/469 [==============================] - 18s 39ms/step - loss: 0.1648 - acc: 0.9385 - val_loss: 0.2124 - val_acc: 0.9252\n",
            "\u001b[1m\n",
            "\n",
            "search space boundaries:\n",
            "\u001b[0m      num_layers_conv  num_conv_filters  nodes_dense        lr\n",
            "min                4               148          109  0.000157\n",
            "max                4               154          177  0.000174 \n",
            "\n",
            "\u001b[1mhyperparameters combinations (lHC):\n",
            "\u001b[0m  num_layers_conv  num_conv_filters  nodes_dense        lr\n",
            "               4               151          157  0.000159\n",
            "               4               150          116  0.000169\n",
            "               4               153          143  0.000172\n",
            "               4               149          129  0.000162\n",
            "               4               152          170  0.000165 \n",
            "\n",
            "\u001b[1mmodels results:\n",
            "\u001b[0m\u001b[0m  num_layers_conv  num_conv_filters  nodes_dense        lr      loss       acc  val_loss  val_acc\n",
            "               4               151          157  0.000159  0.170642  0.937600  0.214632   0.9220\n",
            "               4               150          116  0.000169  0.178202  0.934633  0.211092   0.9246\n",
            "               4               153          143  0.000172  0.176384  0.935200  0.220317   0.9225\n",
            "               4               149          129  0.000162  0.172316  0.936133  0.202156   0.9245\n",
            "               4               152          170  0.000165  0.164783  0.938467  0.212441   0.9252\n",
            "\u001b[1m\n",
            "optimization has ended\u001b[0m\n"
          ],
          "name": "stdout"
        }
      ]
    },
    {
      "cell_type": "code",
      "metadata": {
        "id": "bHPld6RyGCxX",
        "colab": {
          "base_uri": "https://localhost:8080/"
        },
        "outputId": "34452f96-2374-4381-9f34-7ccf157bce83"
      },
      "source": [
        "# optimization results in dataframe\n",
        "print(demo.opti_results)"
      ],
      "execution_count": null,
      "outputs": [
        {
          "output_type": "stream",
          "text": [
            " num_layers_conv  num_conv_filters  nodes_dense        lr      loss       acc  val_loss  val_acc    Round   model ID\n",
            "               3               234           67  0.001000  0.197828  0.927183  0.241566   0.9107  Round_1  model_1_1\n",
            "               4                99          143  0.000158  0.184091  0.933100  0.210904   0.9228  Round_1  model_1_2\n",
            "               4               144          181  0.002512  0.236200  0.913717  0.395997   0.8801  Round_1  model_1_3\n",
            "               2                54          105  0.000398  0.181810  0.932083  0.232517   0.9169  Round_1  model_1_4\n",
            "               5               189           29  0.006310  1.309202  0.442933  1.182737   0.4892  Round_1  model_1_5\n",
            "               4               151          143  0.000165  0.171800  0.936683  0.216180   0.9230  Round_2  model_2_1\n",
            "               4                47          165  0.000152  0.211199  0.922967  0.234451   0.9146  Round_2  model_2_2\n",
            "               4               125           98  0.000158  0.191022  0.930300  0.215708   0.9221  Round_2  model_2_3\n",
            "               4                99          188  0.000173  0.167068  0.939333  0.220544   0.9194  Round_2  model_2_4\n",
            "               4                73          121  0.000145  0.196473  0.927867  0.224365   0.9171  Round_2  model_2_5\n",
            "               4               151          157  0.000159  0.170642  0.937600  0.214632   0.9220  Round_3  model_3_1\n",
            "               4               150          116  0.000169  0.178202  0.934633  0.211092   0.9246  Round_3  model_3_2\n",
            "               4               153          143  0.000172  0.176384  0.935200  0.220317   0.9225  Round_3  model_3_3\n",
            "               4               149          129  0.000162  0.172316  0.936133  0.202156   0.9245  Round_3  model_3_4\n",
            "               4               152          170  0.000165  0.164783  0.938467  0.212441   0.9252  Round_3  model_3_5\n"
          ],
          "name": "stdout"
        }
      ]
    },
    {
      "cell_type": "code",
      "metadata": {
        "id": "sQ3snx2YGGqR",
        "colab": {
          "base_uri": "https://localhost:8080/",
          "height": 1000
        },
        "outputId": "b9a27b20-9313-4fad-ceb7-67c4629eb089"
      },
      "source": [
        "# visualize optimization results\n",
        "demo.plot_opti_results()"
      ],
      "execution_count": null,
      "outputs": [
        {
          "output_type": "display_data",
          "data": {
            "text/html": [
              "<html>\n",
              "<head><meta charset=\"utf-8\" /></head>\n",
              "<body>\n",
              "    <div>            <script src=\"https://cdnjs.cloudflare.com/ajax/libs/mathjax/2.7.5/MathJax.js?config=TeX-AMS-MML_SVG\"></script><script type=\"text/javascript\">if (window.MathJax) {MathJax.Hub.Config({SVG: {font: \"STIX-Web\"}});}</script>                <script type=\"text/javascript\">window.PlotlyConfig = {MathJaxConfig: 'local'};</script>\n",
              "        <script src=\"https://cdn.plot.ly/plotly-latest.min.js\"></script>                <div id=\"540b0364-bad5-4349-85d0-cff9ca918393\" class=\"plotly-graph-div\" style=\"height:525px; width:100%;\"></div>            <script type=\"text/javascript\">                                    window.PLOTLYENV=window.PLOTLYENV || {};                                    if (document.getElementById(\"540b0364-bad5-4349-85d0-cff9ca918393\")) {                    Plotly.newPlot(                        \"540b0364-bad5-4349-85d0-cff9ca918393\",                        [{\"hovertemplate\": \"Round=%{x}<br>max val_acc=%{y}<extra></extra>\", \"legendgroup\": \"\", \"line\": {\"color\": \"#636efa\", \"dash\": \"solid\"}, \"mode\": \"lines\", \"name\": \"\", \"orientation\": \"v\", \"showlegend\": false, \"type\": \"scatter\", \"x\": [\"Round_1\", \"Round_2\", \"Round_3\"], \"xaxis\": \"x\", \"y\": [0.9228000044822693, 0.9229999780654907, 0.9251999855041504], \"yaxis\": \"y\"}, {\"alignmentgroup\": \"True\", \"box\": {\"visible\": false}, \"hovertemplate\": \"Round=%{x}<br>val_acc=%{y}<extra></extra>\", \"legendgroup\": \"\", \"marker\": {\"color\": \"#636efa\"}, \"name\": \"\", \"offsetgroup\": \"\", \"orientation\": \"v\", \"points\": \"all\", \"scalegroup\": \"True\", \"showlegend\": false, \"type\": \"violin\", \"x\": [\"Round_1\", \"Round_1\", \"Round_1\", \"Round_1\", \"Round_1\", \"Round_2\", \"Round_2\", \"Round_2\", \"Round_2\", \"Round_2\", \"Round_3\", \"Round_3\", \"Round_3\", \"Round_3\", \"Round_3\"], \"x0\": \" \", \"xaxis\": \"x2\", \"y\": [0.9107000231742859, 0.9228000044822693, 0.8801000118255615, 0.9168999791145325, 0.48919999599456787, 0.9229999780654907, 0.9146000146865845, 0.9221000075340271, 0.9193999767303467, 0.9171000123023987, 0.921999990940094, 0.9246000051498413, 0.9225000143051147, 0.9244999885559082, 0.9251999855041504], \"y0\": \" \", \"yaxis\": \"y2\"}],                        {\"annotations\": [{\"font\": {\"size\": 16}, \"showarrow\": false, \"text\": \"max val_acc at each round\", \"x\": 0.225, \"xanchor\": \"center\", \"xref\": \"paper\", \"y\": 1.0, \"yanchor\": \"bottom\", \"yref\": \"paper\"}, {\"font\": {\"size\": 16}, \"showarrow\": false, \"text\": \"val_acc distribution at each round\", \"x\": 0.775, \"xanchor\": \"center\", \"xref\": \"paper\", \"y\": 1.0, \"yanchor\": \"bottom\", \"yref\": \"paper\"}], \"template\": {\"data\": {\"bar\": [{\"error_x\": {\"color\": \"#2a3f5f\"}, \"error_y\": {\"color\": \"#2a3f5f\"}, \"marker\": {\"line\": {\"color\": \"white\", \"width\": 0.5}}, \"type\": \"bar\"}], \"barpolar\": [{\"marker\": {\"line\": {\"color\": \"white\", \"width\": 0.5}}, \"type\": \"barpolar\"}], \"carpet\": [{\"aaxis\": {\"endlinecolor\": \"#2a3f5f\", \"gridcolor\": \"#C8D4E3\", \"linecolor\": \"#C8D4E3\", \"minorgridcolor\": \"#C8D4E3\", \"startlinecolor\": \"#2a3f5f\"}, \"baxis\": {\"endlinecolor\": \"#2a3f5f\", \"gridcolor\": \"#C8D4E3\", \"linecolor\": \"#C8D4E3\", \"minorgridcolor\": \"#C8D4E3\", \"startlinecolor\": \"#2a3f5f\"}, \"type\": \"carpet\"}], \"choropleth\": [{\"colorbar\": {\"outlinewidth\": 0, \"ticks\": \"\"}, \"type\": \"choropleth\"}], \"contour\": [{\"colorbar\": {\"outlinewidth\": 0, \"ticks\": \"\"}, \"colorscale\": [[0.0, \"#0d0887\"], [0.1111111111111111, \"#46039f\"], [0.2222222222222222, \"#7201a8\"], [0.3333333333333333, \"#9c179e\"], [0.4444444444444444, \"#bd3786\"], [0.5555555555555556, \"#d8576b\"], [0.6666666666666666, \"#ed7953\"], [0.7777777777777778, \"#fb9f3a\"], [0.8888888888888888, \"#fdca26\"], [1.0, \"#f0f921\"]], \"type\": \"contour\"}], \"contourcarpet\": [{\"colorbar\": {\"outlinewidth\": 0, \"ticks\": \"\"}, \"type\": \"contourcarpet\"}], \"heatmap\": [{\"colorbar\": {\"outlinewidth\": 0, \"ticks\": \"\"}, \"colorscale\": [[0.0, \"#0d0887\"], [0.1111111111111111, \"#46039f\"], [0.2222222222222222, \"#7201a8\"], [0.3333333333333333, \"#9c179e\"], [0.4444444444444444, \"#bd3786\"], [0.5555555555555556, \"#d8576b\"], [0.6666666666666666, \"#ed7953\"], [0.7777777777777778, \"#fb9f3a\"], [0.8888888888888888, \"#fdca26\"], [1.0, \"#f0f921\"]], \"type\": \"heatmap\"}], \"heatmapgl\": [{\"colorbar\": {\"outlinewidth\": 0, \"ticks\": \"\"}, \"colorscale\": [[0.0, \"#0d0887\"], [0.1111111111111111, \"#46039f\"], [0.2222222222222222, \"#7201a8\"], [0.3333333333333333, \"#9c179e\"], [0.4444444444444444, \"#bd3786\"], [0.5555555555555556, \"#d8576b\"], [0.6666666666666666, \"#ed7953\"], [0.7777777777777778, \"#fb9f3a\"], [0.8888888888888888, \"#fdca26\"], [1.0, \"#f0f921\"]], \"type\": \"heatmapgl\"}], \"histogram\": [{\"marker\": {\"colorbar\": {\"outlinewidth\": 0, \"ticks\": \"\"}}, \"type\": \"histogram\"}], \"histogram2d\": [{\"colorbar\": {\"outlinewidth\": 0, \"ticks\": \"\"}, \"colorscale\": [[0.0, \"#0d0887\"], [0.1111111111111111, \"#46039f\"], [0.2222222222222222, \"#7201a8\"], [0.3333333333333333, \"#9c179e\"], [0.4444444444444444, \"#bd3786\"], [0.5555555555555556, \"#d8576b\"], [0.6666666666666666, \"#ed7953\"], [0.7777777777777778, \"#fb9f3a\"], [0.8888888888888888, \"#fdca26\"], [1.0, \"#f0f921\"]], \"type\": \"histogram2d\"}], \"histogram2dcontour\": [{\"colorbar\": {\"outlinewidth\": 0, \"ticks\": \"\"}, \"colorscale\": [[0.0, \"#0d0887\"], [0.1111111111111111, \"#46039f\"], [0.2222222222222222, \"#7201a8\"], [0.3333333333333333, \"#9c179e\"], [0.4444444444444444, \"#bd3786\"], [0.5555555555555556, \"#d8576b\"], [0.6666666666666666, \"#ed7953\"], [0.7777777777777778, \"#fb9f3a\"], [0.8888888888888888, \"#fdca26\"], [1.0, \"#f0f921\"]], \"type\": \"histogram2dcontour\"}], \"mesh3d\": [{\"colorbar\": {\"outlinewidth\": 0, \"ticks\": \"\"}, \"type\": \"mesh3d\"}], \"parcoords\": [{\"line\": {\"colorbar\": {\"outlinewidth\": 0, \"ticks\": \"\"}}, \"type\": \"parcoords\"}], \"pie\": [{\"automargin\": true, \"type\": \"pie\"}], \"scatter\": [{\"marker\": {\"colorbar\": {\"outlinewidth\": 0, \"ticks\": \"\"}}, \"type\": \"scatter\"}], \"scatter3d\": [{\"line\": {\"colorbar\": {\"outlinewidth\": 0, \"ticks\": \"\"}}, \"marker\": {\"colorbar\": {\"outlinewidth\": 0, \"ticks\": \"\"}}, \"type\": \"scatter3d\"}], \"scattercarpet\": [{\"marker\": {\"colorbar\": {\"outlinewidth\": 0, \"ticks\": \"\"}}, \"type\": \"scattercarpet\"}], \"scattergeo\": [{\"marker\": {\"colorbar\": {\"outlinewidth\": 0, \"ticks\": \"\"}}, \"type\": \"scattergeo\"}], \"scattergl\": [{\"marker\": {\"colorbar\": {\"outlinewidth\": 0, \"ticks\": \"\"}}, \"type\": \"scattergl\"}], \"scattermapbox\": [{\"marker\": {\"colorbar\": {\"outlinewidth\": 0, \"ticks\": \"\"}}, \"type\": \"scattermapbox\"}], \"scatterpolar\": [{\"marker\": {\"colorbar\": {\"outlinewidth\": 0, \"ticks\": \"\"}}, \"type\": \"scatterpolar\"}], \"scatterpolargl\": [{\"marker\": {\"colorbar\": {\"outlinewidth\": 0, \"ticks\": \"\"}}, \"type\": \"scatterpolargl\"}], \"scatterternary\": [{\"marker\": {\"colorbar\": {\"outlinewidth\": 0, \"ticks\": \"\"}}, \"type\": \"scatterternary\"}], \"surface\": [{\"colorbar\": {\"outlinewidth\": 0, \"ticks\": \"\"}, \"colorscale\": [[0.0, \"#0d0887\"], [0.1111111111111111, \"#46039f\"], [0.2222222222222222, \"#7201a8\"], [0.3333333333333333, \"#9c179e\"], [0.4444444444444444, \"#bd3786\"], [0.5555555555555556, \"#d8576b\"], [0.6666666666666666, \"#ed7953\"], [0.7777777777777778, \"#fb9f3a\"], [0.8888888888888888, \"#fdca26\"], [1.0, \"#f0f921\"]], \"type\": \"surface\"}], \"table\": [{\"cells\": {\"fill\": {\"color\": \"#EBF0F8\"}, \"line\": {\"color\": \"white\"}}, \"header\": {\"fill\": {\"color\": \"#C8D4E3\"}, \"line\": {\"color\": \"white\"}}, \"type\": \"table\"}]}, \"layout\": {\"annotationdefaults\": {\"arrowcolor\": \"#2a3f5f\", \"arrowhead\": 0, \"arrowwidth\": 1}, \"autotypenumbers\": \"strict\", \"coloraxis\": {\"colorbar\": {\"outlinewidth\": 0, \"ticks\": \"\"}}, \"colorscale\": {\"diverging\": [[0, \"#8e0152\"], [0.1, \"#c51b7d\"], [0.2, \"#de77ae\"], [0.3, \"#f1b6da\"], [0.4, \"#fde0ef\"], [0.5, \"#f7f7f7\"], [0.6, \"#e6f5d0\"], [0.7, \"#b8e186\"], [0.8, \"#7fbc41\"], [0.9, \"#4d9221\"], [1, \"#276419\"]], \"sequential\": [[0.0, \"#0d0887\"], [0.1111111111111111, \"#46039f\"], [0.2222222222222222, \"#7201a8\"], [0.3333333333333333, \"#9c179e\"], [0.4444444444444444, \"#bd3786\"], [0.5555555555555556, \"#d8576b\"], [0.6666666666666666, \"#ed7953\"], [0.7777777777777778, \"#fb9f3a\"], [0.8888888888888888, \"#fdca26\"], [1.0, \"#f0f921\"]], \"sequentialminus\": [[0.0, \"#0d0887\"], [0.1111111111111111, \"#46039f\"], [0.2222222222222222, \"#7201a8\"], [0.3333333333333333, \"#9c179e\"], [0.4444444444444444, \"#bd3786\"], [0.5555555555555556, \"#d8576b\"], [0.6666666666666666, \"#ed7953\"], [0.7777777777777778, \"#fb9f3a\"], [0.8888888888888888, \"#fdca26\"], [1.0, \"#f0f921\"]]}, \"colorway\": [\"#636efa\", \"#EF553B\", \"#00cc96\", \"#ab63fa\", \"#FFA15A\", \"#19d3f3\", \"#FF6692\", \"#B6E880\", \"#FF97FF\", \"#FECB52\"], \"font\": {\"color\": \"#2a3f5f\"}, \"geo\": {\"bgcolor\": \"white\", \"lakecolor\": \"white\", \"landcolor\": \"white\", \"showlakes\": true, \"showland\": true, \"subunitcolor\": \"#C8D4E3\"}, \"hoverlabel\": {\"align\": \"left\"}, \"hovermode\": \"closest\", \"mapbox\": {\"style\": \"light\"}, \"paper_bgcolor\": \"white\", \"plot_bgcolor\": \"white\", \"polar\": {\"angularaxis\": {\"gridcolor\": \"#EBF0F8\", \"linecolor\": \"#EBF0F8\", \"ticks\": \"\"}, \"bgcolor\": \"white\", \"radialaxis\": {\"gridcolor\": \"#EBF0F8\", \"linecolor\": \"#EBF0F8\", \"ticks\": \"\"}}, \"scene\": {\"xaxis\": {\"backgroundcolor\": \"white\", \"gridcolor\": \"#DFE8F3\", \"gridwidth\": 2, \"linecolor\": \"#EBF0F8\", \"showbackground\": true, \"ticks\": \"\", \"zerolinecolor\": \"#EBF0F8\"}, \"yaxis\": {\"backgroundcolor\": \"white\", \"gridcolor\": \"#DFE8F3\", \"gridwidth\": 2, \"linecolor\": \"#EBF0F8\", \"showbackground\": true, \"ticks\": \"\", \"zerolinecolor\": \"#EBF0F8\"}, \"zaxis\": {\"backgroundcolor\": \"white\", \"gridcolor\": \"#DFE8F3\", \"gridwidth\": 2, \"linecolor\": \"#EBF0F8\", \"showbackground\": true, \"ticks\": \"\", \"zerolinecolor\": \"#EBF0F8\"}}, \"shapedefaults\": {\"line\": {\"color\": \"#2a3f5f\"}}, \"ternary\": {\"aaxis\": {\"gridcolor\": \"#DFE8F3\", \"linecolor\": \"#A2B1C6\", \"ticks\": \"\"}, \"baxis\": {\"gridcolor\": \"#DFE8F3\", \"linecolor\": \"#A2B1C6\", \"ticks\": \"\"}, \"bgcolor\": \"white\", \"caxis\": {\"gridcolor\": \"#DFE8F3\", \"linecolor\": \"#A2B1C6\", \"ticks\": \"\"}}, \"title\": {\"x\": 0.05}, \"xaxis\": {\"automargin\": true, \"gridcolor\": \"#EBF0F8\", \"linecolor\": \"#EBF0F8\", \"ticks\": \"\", \"title\": {\"standoff\": 15}, \"zerolinecolor\": \"#EBF0F8\", \"zerolinewidth\": 2}, \"yaxis\": {\"automargin\": true, \"gridcolor\": \"#EBF0F8\", \"linecolor\": \"#EBF0F8\", \"ticks\": \"\", \"title\": {\"standoff\": 15}, \"zerolinecolor\": \"#EBF0F8\", \"zerolinewidth\": 2}}}, \"title\": {\"text\": \"Optimization Results\"}, \"xaxis\": {\"anchor\": \"y\", \"domain\": [0.0, 0.45]}, \"xaxis2\": {\"anchor\": \"y2\", \"domain\": [0.55, 1.0]}, \"yaxis\": {\"anchor\": \"x\", \"domain\": [0.0, 1.0]}, \"yaxis2\": {\"anchor\": \"x2\", \"domain\": [0.0, 1.0]}},                        {\"responsive\": true}                    ).then(function(){\n",
              "                            \n",
              "var gd = document.getElementById('540b0364-bad5-4349-85d0-cff9ca918393');\n",
              "var x = new MutationObserver(function (mutations, observer) {{\n",
              "        var display = window.getComputedStyle(gd).display;\n",
              "        if (!display || display === 'none') {{\n",
              "            console.log([gd, 'removed!']);\n",
              "            Plotly.purge(gd);\n",
              "            observer.disconnect();\n",
              "        }}\n",
              "}});\n",
              "\n",
              "// Listen for the removal of the full notebook cells\n",
              "var notebookContainer = gd.closest('#notebook-container');\n",
              "if (notebookContainer) {{\n",
              "    x.observe(notebookContainer, {childList: true});\n",
              "}}\n",
              "\n",
              "// Listen for the clearing of the current output cell\n",
              "var outputEl = gd.closest('.output');\n",
              "if (outputEl) {{\n",
              "    x.observe(outputEl, {childList: true});\n",
              "}}\n",
              "\n",
              "                        })                };                            </script>        </div>\n",
              "</body>\n",
              "</html>"
            ]
          },
          "metadata": {
            "tags": []
          }
        },
        {
          "output_type": "display_data",
          "data": {
            "text/html": [
              "<html>\n",
              "<head><meta charset=\"utf-8\" /></head>\n",
              "<body>\n",
              "    <div>            <script src=\"https://cdnjs.cloudflare.com/ajax/libs/mathjax/2.7.5/MathJax.js?config=TeX-AMS-MML_SVG\"></script><script type=\"text/javascript\">if (window.MathJax) {MathJax.Hub.Config({SVG: {font: \"STIX-Web\"}});}</script>                <script type=\"text/javascript\">window.PlotlyConfig = {MathJaxConfig: 'local'};</script>\n",
              "        <script src=\"https://cdn.plot.ly/plotly-latest.min.js\"></script>                <div id=\"3c60f8ab-e2f1-4f5b-b2c4-c411a1633844\" class=\"plotly-graph-div\" style=\"height:525px; width:100%;\"></div>            <script type=\"text/javascript\">                                    window.PLOTLYENV=window.PLOTLYENV || {};                                    if (document.getElementById(\"3c60f8ab-e2f1-4f5b-b2c4-c411a1633844\")) {                    Plotly.newPlot(                        \"3c60f8ab-e2f1-4f5b-b2c4-c411a1633844\",                        [{\"dimensions\": [{\"label\": \"num_layers_conv\", \"values\": [3, 4, 4, 2, 5, 4, 4, 4, 4, 4, 4, 4, 4, 4, 4]}, {\"label\": \"num_conv_filters\", \"values\": [234, 99, 144, 54, 189, 151, 47, 125, 99, 73, 151, 150, 153, 149, 152]}, {\"label\": \"nodes_dense\", \"values\": [67, 143, 181, 105, 29, 143, 165, 98, 188, 121, 157, 116, 143, 129, 170]}, {\"label\": \"lr\", \"values\": [0.001, 0.00015848931924611142, 0.002511886431509582, 0.00039810717055349735, 0.00630957344480193, 0.00016549390358653641, 0.0001517812062603336, 0.00015848931924611142, 0.00017280806211161616, 0.0001453570163808194, 0.00015888135015487513, 0.0001689026794144241, 0.00017238166781445493, 0.00016215392330816308, 0.00016549390358653625]}, {\"label\": \"val_acc\", \"values\": [0.9107000231742859, 0.9228000044822693, 0.8801000118255615, 0.9168999791145325, 0.48919999599456787, 0.9229999780654907, 0.9146000146865845, 0.9221000075340271, 0.9193999767303467, 0.9171000123023987, 0.921999990940094, 0.9246000051498413, 0.9225000143051147, 0.9244999885559082, 0.9251999855041504]}], \"domain\": {\"x\": [0.0, 1.0], \"y\": [0.0, 1.0]}, \"name\": \"\", \"type\": \"parcoords\"}],                        {\"legend\": {\"tracegroupgap\": 0}, \"margin\": {\"t\": 60}, \"template\": {\"data\": {\"bar\": [{\"error_x\": {\"color\": \"#2a3f5f\"}, \"error_y\": {\"color\": \"#2a3f5f\"}, \"marker\": {\"line\": {\"color\": \"white\", \"width\": 0.5}}, \"type\": \"bar\"}], \"barpolar\": [{\"marker\": {\"line\": {\"color\": \"white\", \"width\": 0.5}}, \"type\": \"barpolar\"}], \"carpet\": [{\"aaxis\": {\"endlinecolor\": \"#2a3f5f\", \"gridcolor\": \"#C8D4E3\", \"linecolor\": \"#C8D4E3\", \"minorgridcolor\": \"#C8D4E3\", \"startlinecolor\": \"#2a3f5f\"}, \"baxis\": {\"endlinecolor\": \"#2a3f5f\", \"gridcolor\": \"#C8D4E3\", \"linecolor\": \"#C8D4E3\", \"minorgridcolor\": \"#C8D4E3\", \"startlinecolor\": \"#2a3f5f\"}, \"type\": \"carpet\"}], \"choropleth\": [{\"colorbar\": {\"outlinewidth\": 0, \"ticks\": \"\"}, \"type\": \"choropleth\"}], \"contour\": [{\"colorbar\": {\"outlinewidth\": 0, \"ticks\": \"\"}, \"colorscale\": [[0.0, \"#0d0887\"], [0.1111111111111111, \"#46039f\"], [0.2222222222222222, \"#7201a8\"], [0.3333333333333333, \"#9c179e\"], [0.4444444444444444, \"#bd3786\"], [0.5555555555555556, \"#d8576b\"], [0.6666666666666666, \"#ed7953\"], [0.7777777777777778, \"#fb9f3a\"], [0.8888888888888888, \"#fdca26\"], [1.0, \"#f0f921\"]], \"type\": \"contour\"}], \"contourcarpet\": [{\"colorbar\": {\"outlinewidth\": 0, \"ticks\": \"\"}, \"type\": \"contourcarpet\"}], \"heatmap\": [{\"colorbar\": {\"outlinewidth\": 0, \"ticks\": \"\"}, \"colorscale\": [[0.0, \"#0d0887\"], [0.1111111111111111, \"#46039f\"], [0.2222222222222222, \"#7201a8\"], [0.3333333333333333, \"#9c179e\"], [0.4444444444444444, \"#bd3786\"], [0.5555555555555556, \"#d8576b\"], [0.6666666666666666, \"#ed7953\"], [0.7777777777777778, \"#fb9f3a\"], [0.8888888888888888, \"#fdca26\"], [1.0, \"#f0f921\"]], \"type\": \"heatmap\"}], \"heatmapgl\": [{\"colorbar\": {\"outlinewidth\": 0, \"ticks\": \"\"}, \"colorscale\": [[0.0, \"#0d0887\"], [0.1111111111111111, \"#46039f\"], [0.2222222222222222, \"#7201a8\"], [0.3333333333333333, \"#9c179e\"], [0.4444444444444444, \"#bd3786\"], [0.5555555555555556, \"#d8576b\"], [0.6666666666666666, \"#ed7953\"], [0.7777777777777778, \"#fb9f3a\"], [0.8888888888888888, \"#fdca26\"], [1.0, \"#f0f921\"]], \"type\": \"heatmapgl\"}], \"histogram\": [{\"marker\": {\"colorbar\": {\"outlinewidth\": 0, \"ticks\": \"\"}}, \"type\": \"histogram\"}], \"histogram2d\": [{\"colorbar\": {\"outlinewidth\": 0, \"ticks\": \"\"}, \"colorscale\": [[0.0, \"#0d0887\"], [0.1111111111111111, \"#46039f\"], [0.2222222222222222, \"#7201a8\"], [0.3333333333333333, \"#9c179e\"], [0.4444444444444444, \"#bd3786\"], [0.5555555555555556, \"#d8576b\"], [0.6666666666666666, \"#ed7953\"], [0.7777777777777778, \"#fb9f3a\"], [0.8888888888888888, \"#fdca26\"], [1.0, \"#f0f921\"]], \"type\": \"histogram2d\"}], \"histogram2dcontour\": [{\"colorbar\": {\"outlinewidth\": 0, \"ticks\": \"\"}, \"colorscale\": [[0.0, \"#0d0887\"], [0.1111111111111111, \"#46039f\"], [0.2222222222222222, \"#7201a8\"], [0.3333333333333333, \"#9c179e\"], [0.4444444444444444, \"#bd3786\"], [0.5555555555555556, \"#d8576b\"], [0.6666666666666666, \"#ed7953\"], [0.7777777777777778, \"#fb9f3a\"], [0.8888888888888888, \"#fdca26\"], [1.0, \"#f0f921\"]], \"type\": \"histogram2dcontour\"}], \"mesh3d\": [{\"colorbar\": {\"outlinewidth\": 0, \"ticks\": \"\"}, \"type\": \"mesh3d\"}], \"parcoords\": [{\"line\": {\"colorbar\": {\"outlinewidth\": 0, \"ticks\": \"\"}}, \"type\": \"parcoords\"}], \"pie\": [{\"automargin\": true, \"type\": \"pie\"}], \"scatter\": [{\"marker\": {\"colorbar\": {\"outlinewidth\": 0, \"ticks\": \"\"}}, \"type\": \"scatter\"}], \"scatter3d\": [{\"line\": {\"colorbar\": {\"outlinewidth\": 0, \"ticks\": \"\"}}, \"marker\": {\"colorbar\": {\"outlinewidth\": 0, \"ticks\": \"\"}}, \"type\": \"scatter3d\"}], \"scattercarpet\": [{\"marker\": {\"colorbar\": {\"outlinewidth\": 0, \"ticks\": \"\"}}, \"type\": \"scattercarpet\"}], \"scattergeo\": [{\"marker\": {\"colorbar\": {\"outlinewidth\": 0, \"ticks\": \"\"}}, \"type\": \"scattergeo\"}], \"scattergl\": [{\"marker\": {\"colorbar\": {\"outlinewidth\": 0, \"ticks\": \"\"}}, \"type\": \"scattergl\"}], \"scattermapbox\": [{\"marker\": {\"colorbar\": {\"outlinewidth\": 0, \"ticks\": \"\"}}, \"type\": \"scattermapbox\"}], \"scatterpolar\": [{\"marker\": {\"colorbar\": {\"outlinewidth\": 0, \"ticks\": \"\"}}, \"type\": \"scatterpolar\"}], \"scatterpolargl\": [{\"marker\": {\"colorbar\": {\"outlinewidth\": 0, \"ticks\": \"\"}}, \"type\": \"scatterpolargl\"}], \"scatterternary\": [{\"marker\": {\"colorbar\": {\"outlinewidth\": 0, \"ticks\": \"\"}}, \"type\": \"scatterternary\"}], \"surface\": [{\"colorbar\": {\"outlinewidth\": 0, \"ticks\": \"\"}, \"colorscale\": [[0.0, \"#0d0887\"], [0.1111111111111111, \"#46039f\"], [0.2222222222222222, \"#7201a8\"], [0.3333333333333333, \"#9c179e\"], [0.4444444444444444, \"#bd3786\"], [0.5555555555555556, \"#d8576b\"], [0.6666666666666666, \"#ed7953\"], [0.7777777777777778, \"#fb9f3a\"], [0.8888888888888888, \"#fdca26\"], [1.0, \"#f0f921\"]], \"type\": \"surface\"}], \"table\": [{\"cells\": {\"fill\": {\"color\": \"#EBF0F8\"}, \"line\": {\"color\": \"white\"}}, \"header\": {\"fill\": {\"color\": \"#C8D4E3\"}, \"line\": {\"color\": \"white\"}}, \"type\": \"table\"}]}, \"layout\": {\"annotationdefaults\": {\"arrowcolor\": \"#2a3f5f\", \"arrowhead\": 0, \"arrowwidth\": 1}, \"autotypenumbers\": \"strict\", \"coloraxis\": {\"colorbar\": {\"outlinewidth\": 0, \"ticks\": \"\"}}, \"colorscale\": {\"diverging\": [[0, \"#8e0152\"], [0.1, \"#c51b7d\"], [0.2, \"#de77ae\"], [0.3, \"#f1b6da\"], [0.4, \"#fde0ef\"], [0.5, \"#f7f7f7\"], [0.6, \"#e6f5d0\"], [0.7, \"#b8e186\"], [0.8, \"#7fbc41\"], [0.9, \"#4d9221\"], [1, \"#276419\"]], \"sequential\": [[0.0, \"#0d0887\"], [0.1111111111111111, \"#46039f\"], [0.2222222222222222, \"#7201a8\"], [0.3333333333333333, \"#9c179e\"], [0.4444444444444444, \"#bd3786\"], [0.5555555555555556, \"#d8576b\"], [0.6666666666666666, \"#ed7953\"], [0.7777777777777778, \"#fb9f3a\"], [0.8888888888888888, \"#fdca26\"], [1.0, \"#f0f921\"]], \"sequentialminus\": [[0.0, \"#0d0887\"], [0.1111111111111111, \"#46039f\"], [0.2222222222222222, \"#7201a8\"], [0.3333333333333333, \"#9c179e\"], [0.4444444444444444, \"#bd3786\"], [0.5555555555555556, \"#d8576b\"], [0.6666666666666666, \"#ed7953\"], [0.7777777777777778, \"#fb9f3a\"], [0.8888888888888888, \"#fdca26\"], [1.0, \"#f0f921\"]]}, \"colorway\": [\"#636efa\", \"#EF553B\", \"#00cc96\", \"#ab63fa\", \"#FFA15A\", \"#19d3f3\", \"#FF6692\", \"#B6E880\", \"#FF97FF\", \"#FECB52\"], \"font\": {\"color\": \"#2a3f5f\"}, \"geo\": {\"bgcolor\": \"white\", \"lakecolor\": \"white\", \"landcolor\": \"white\", \"showlakes\": true, \"showland\": true, \"subunitcolor\": \"#C8D4E3\"}, \"hoverlabel\": {\"align\": \"left\"}, \"hovermode\": \"closest\", \"mapbox\": {\"style\": \"light\"}, \"paper_bgcolor\": \"white\", \"plot_bgcolor\": \"white\", \"polar\": {\"angularaxis\": {\"gridcolor\": \"#EBF0F8\", \"linecolor\": \"#EBF0F8\", \"ticks\": \"\"}, \"bgcolor\": \"white\", \"radialaxis\": {\"gridcolor\": \"#EBF0F8\", \"linecolor\": \"#EBF0F8\", \"ticks\": \"\"}}, \"scene\": {\"xaxis\": {\"backgroundcolor\": \"white\", \"gridcolor\": \"#DFE8F3\", \"gridwidth\": 2, \"linecolor\": \"#EBF0F8\", \"showbackground\": true, \"ticks\": \"\", \"zerolinecolor\": \"#EBF0F8\"}, \"yaxis\": {\"backgroundcolor\": \"white\", \"gridcolor\": \"#DFE8F3\", \"gridwidth\": 2, \"linecolor\": \"#EBF0F8\", \"showbackground\": true, \"ticks\": \"\", \"zerolinecolor\": \"#EBF0F8\"}, \"zaxis\": {\"backgroundcolor\": \"white\", \"gridcolor\": \"#DFE8F3\", \"gridwidth\": 2, \"linecolor\": \"#EBF0F8\", \"showbackground\": true, \"ticks\": \"\", \"zerolinecolor\": \"#EBF0F8\"}}, \"shapedefaults\": {\"line\": {\"color\": \"#2a3f5f\"}}, \"ternary\": {\"aaxis\": {\"gridcolor\": \"#DFE8F3\", \"linecolor\": \"#A2B1C6\", \"ticks\": \"\"}, \"baxis\": {\"gridcolor\": \"#DFE8F3\", \"linecolor\": \"#A2B1C6\", \"ticks\": \"\"}, \"bgcolor\": \"white\", \"caxis\": {\"gridcolor\": \"#DFE8F3\", \"linecolor\": \"#A2B1C6\", \"ticks\": \"\"}}, \"title\": {\"x\": 0.05}, \"xaxis\": {\"automargin\": true, \"gridcolor\": \"#EBF0F8\", \"linecolor\": \"#EBF0F8\", \"ticks\": \"\", \"title\": {\"standoff\": 15}, \"zerolinecolor\": \"#EBF0F8\", \"zerolinewidth\": 2}, \"yaxis\": {\"automargin\": true, \"gridcolor\": \"#EBF0F8\", \"linecolor\": \"#EBF0F8\", \"ticks\": \"\", \"title\": {\"standoff\": 15}, \"zerolinecolor\": \"#EBF0F8\", \"zerolinewidth\": 2}}}},                        {\"responsive\": true}                    ).then(function(){\n",
              "                            \n",
              "var gd = document.getElementById('3c60f8ab-e2f1-4f5b-b2c4-c411a1633844');\n",
              "var x = new MutationObserver(function (mutations, observer) {{\n",
              "        var display = window.getComputedStyle(gd).display;\n",
              "        if (!display || display === 'none') {{\n",
              "            console.log([gd, 'removed!']);\n",
              "            Plotly.purge(gd);\n",
              "            observer.disconnect();\n",
              "        }}\n",
              "}});\n",
              "\n",
              "// Listen for the removal of the full notebook cells\n",
              "var notebookContainer = gd.closest('#notebook-container');\n",
              "if (notebookContainer) {{\n",
              "    x.observe(notebookContainer, {childList: true});\n",
              "}}\n",
              "\n",
              "// Listen for the clearing of the current output cell\n",
              "var outputEl = gd.closest('.output');\n",
              "if (outputEl) {{\n",
              "    x.observe(outputEl, {childList: true});\n",
              "}}\n",
              "\n",
              "                        })                };                            </script>        </div>\n",
              "</body>\n",
              "</html>"
            ]
          },
          "metadata": {
            "tags": []
          }
        }
      ]
    },
    {
      "cell_type": "code",
      "metadata": {
        "id": "wEzAnub7GKPl",
        "colab": {
          "base_uri": "https://localhost:8080/",
          "height": 1000
        },
        "outputId": "44bd20bc-f33e-40d8-d81c-61b56fb1ec50"
      },
      "source": [
        "# visualize hyperparameters search space\n",
        "demo.plot_search_space()"
      ],
      "execution_count": null,
      "outputs": [
        {
          "output_type": "display_data",
          "data": {
            "text/html": [
              "<html>\n",
              "<head><meta charset=\"utf-8\" /></head>\n",
              "<body>\n",
              "    <div>            <script src=\"https://cdnjs.cloudflare.com/ajax/libs/mathjax/2.7.5/MathJax.js?config=TeX-AMS-MML_SVG\"></script><script type=\"text/javascript\">if (window.MathJax) {MathJax.Hub.Config({SVG: {font: \"STIX-Web\"}});}</script>                <script type=\"text/javascript\">window.PlotlyConfig = {MathJaxConfig: 'local'};</script>\n",
              "        <script src=\"https://cdn.plot.ly/plotly-latest.min.js\"></script>                <div id=\"bb427a57-428a-4df9-bee0-6e31b011f601\" class=\"plotly-graph-div\" style=\"height:525px; width:100%;\"></div>            <script type=\"text/javascript\">                                    window.PLOTLYENV=window.PLOTLYENV || {};                                    if (document.getElementById(\"bb427a57-428a-4df9-bee0-6e31b011f601\")) {                    Plotly.newPlot(                        \"bb427a57-428a-4df9-bee0-6e31b011f601\",                        [{\"alignmentgroup\": \"True\", \"hovertemplate\": \"Round=%{x}<br>num_layers_conv=%{y}<extra></extra>\", \"legendgroup\": \"\", \"marker\": {\"color\": \"#636efa\"}, \"name\": \"\", \"notched\": false, \"offsetgroup\": \"\", \"orientation\": \"v\", \"showlegend\": false, \"type\": \"box\", \"x\": [\"Round_1\", \"Round_1\", \"Round_2\", \"Round_2\", \"Round_3\", \"Round_3\"], \"x0\": \" \", \"xaxis\": \"x\", \"y\": [2, 5, 4, 4, 4, 4], \"y0\": \" \", \"yaxis\": \"y\"}, {\"alignmentgroup\": \"True\", \"hovertemplate\": \"Round=%{x}<br>num_conv_filters=%{y}<extra></extra>\", \"legendgroup\": \"\", \"marker\": {\"color\": \"#636efa\"}, \"name\": \"\", \"notched\": false, \"offsetgroup\": \"\", \"orientation\": \"v\", \"showlegend\": false, \"type\": \"box\", \"x\": [\"Round_1\", \"Round_1\", \"Round_2\", \"Round_2\", \"Round_3\", \"Round_3\"], \"x0\": \" \", \"xaxis\": \"x2\", \"y\": [32, 256, 34, 164, 148, 154], \"y0\": \" \", \"yaxis\": \"y2\"}, {\"alignmentgroup\": \"True\", \"hovertemplate\": \"Round=%{x}<br>nodes_dense=%{y}<extra></extra>\", \"legendgroup\": \"\", \"marker\": {\"color\": \"#636efa\"}, \"name\": \"\", \"notched\": false, \"offsetgroup\": \"\", \"orientation\": \"v\", \"showlegend\": false, \"type\": \"box\", \"x\": [\"Round_1\", \"Round_1\", \"Round_2\", \"Round_2\", \"Round_3\", \"Round_3\"], \"x0\": \" \", \"xaxis\": \"x3\", \"y\": [10, 200, 87, 199, 109, 177], \"y0\": \" \", \"yaxis\": \"y3\"}, {\"alignmentgroup\": \"True\", \"hovertemplate\": \"Round=%{x}<br>lr=%{y}<extra></extra>\", \"legendgroup\": \"\", \"marker\": {\"color\": \"#636efa\"}, \"name\": \"\", \"notched\": false, \"offsetgroup\": \"\", \"orientation\": \"v\", \"showlegend\": false, \"type\": \"box\", \"x\": [\"Round_1\", \"Round_1\", \"Round_2\", \"Round_2\", \"Round_3\", \"Round_3\"], \"x0\": \" \", \"xaxis\": \"x4\", \"y\": [0.0001, 0.01, 0.0001422476171246206, 0.00017658548398100517, 0.00015726991504504733, 0.00017414794251313027], \"y0\": \" \", \"yaxis\": \"y4\"}],                        {\"template\": {\"data\": {\"bar\": [{\"error_x\": {\"color\": \"#2a3f5f\"}, \"error_y\": {\"color\": \"#2a3f5f\"}, \"marker\": {\"line\": {\"color\": \"white\", \"width\": 0.5}}, \"type\": \"bar\"}], \"barpolar\": [{\"marker\": {\"line\": {\"color\": \"white\", \"width\": 0.5}}, \"type\": \"barpolar\"}], \"carpet\": [{\"aaxis\": {\"endlinecolor\": \"#2a3f5f\", \"gridcolor\": \"#C8D4E3\", \"linecolor\": \"#C8D4E3\", \"minorgridcolor\": \"#C8D4E3\", \"startlinecolor\": \"#2a3f5f\"}, \"baxis\": {\"endlinecolor\": \"#2a3f5f\", \"gridcolor\": \"#C8D4E3\", \"linecolor\": \"#C8D4E3\", \"minorgridcolor\": \"#C8D4E3\", \"startlinecolor\": \"#2a3f5f\"}, \"type\": \"carpet\"}], \"choropleth\": [{\"colorbar\": {\"outlinewidth\": 0, \"ticks\": \"\"}, \"type\": \"choropleth\"}], \"contour\": [{\"colorbar\": {\"outlinewidth\": 0, \"ticks\": \"\"}, \"colorscale\": [[0.0, \"#0d0887\"], [0.1111111111111111, \"#46039f\"], [0.2222222222222222, \"#7201a8\"], [0.3333333333333333, \"#9c179e\"], [0.4444444444444444, \"#bd3786\"], [0.5555555555555556, \"#d8576b\"], [0.6666666666666666, \"#ed7953\"], [0.7777777777777778, \"#fb9f3a\"], [0.8888888888888888, \"#fdca26\"], [1.0, \"#f0f921\"]], \"type\": \"contour\"}], \"contourcarpet\": [{\"colorbar\": {\"outlinewidth\": 0, \"ticks\": \"\"}, \"type\": \"contourcarpet\"}], \"heatmap\": [{\"colorbar\": {\"outlinewidth\": 0, \"ticks\": \"\"}, \"colorscale\": [[0.0, \"#0d0887\"], [0.1111111111111111, \"#46039f\"], [0.2222222222222222, \"#7201a8\"], [0.3333333333333333, \"#9c179e\"], [0.4444444444444444, \"#bd3786\"], [0.5555555555555556, \"#d8576b\"], [0.6666666666666666, \"#ed7953\"], [0.7777777777777778, \"#fb9f3a\"], [0.8888888888888888, \"#fdca26\"], [1.0, \"#f0f921\"]], \"type\": \"heatmap\"}], \"heatmapgl\": [{\"colorbar\": {\"outlinewidth\": 0, \"ticks\": \"\"}, \"colorscale\": [[0.0, \"#0d0887\"], [0.1111111111111111, \"#46039f\"], [0.2222222222222222, \"#7201a8\"], [0.3333333333333333, \"#9c179e\"], [0.4444444444444444, \"#bd3786\"], [0.5555555555555556, \"#d8576b\"], [0.6666666666666666, \"#ed7953\"], [0.7777777777777778, \"#fb9f3a\"], [0.8888888888888888, \"#fdca26\"], [1.0, \"#f0f921\"]], \"type\": \"heatmapgl\"}], \"histogram\": [{\"marker\": {\"colorbar\": {\"outlinewidth\": 0, \"ticks\": \"\"}}, \"type\": \"histogram\"}], \"histogram2d\": [{\"colorbar\": {\"outlinewidth\": 0, \"ticks\": \"\"}, \"colorscale\": [[0.0, \"#0d0887\"], [0.1111111111111111, \"#46039f\"], [0.2222222222222222, \"#7201a8\"], [0.3333333333333333, \"#9c179e\"], [0.4444444444444444, \"#bd3786\"], [0.5555555555555556, \"#d8576b\"], [0.6666666666666666, \"#ed7953\"], [0.7777777777777778, \"#fb9f3a\"], [0.8888888888888888, \"#fdca26\"], [1.0, \"#f0f921\"]], \"type\": \"histogram2d\"}], \"histogram2dcontour\": [{\"colorbar\": {\"outlinewidth\": 0, \"ticks\": \"\"}, \"colorscale\": [[0.0, \"#0d0887\"], [0.1111111111111111, \"#46039f\"], [0.2222222222222222, \"#7201a8\"], [0.3333333333333333, \"#9c179e\"], [0.4444444444444444, \"#bd3786\"], [0.5555555555555556, \"#d8576b\"], [0.6666666666666666, \"#ed7953\"], [0.7777777777777778, \"#fb9f3a\"], [0.8888888888888888, \"#fdca26\"], [1.0, \"#f0f921\"]], \"type\": \"histogram2dcontour\"}], \"mesh3d\": [{\"colorbar\": {\"outlinewidth\": 0, \"ticks\": \"\"}, \"type\": \"mesh3d\"}], \"parcoords\": [{\"line\": {\"colorbar\": {\"outlinewidth\": 0, \"ticks\": \"\"}}, \"type\": \"parcoords\"}], \"pie\": [{\"automargin\": true, \"type\": \"pie\"}], \"scatter\": [{\"marker\": {\"colorbar\": {\"outlinewidth\": 0, \"ticks\": \"\"}}, \"type\": \"scatter\"}], \"scatter3d\": [{\"line\": {\"colorbar\": {\"outlinewidth\": 0, \"ticks\": \"\"}}, \"marker\": {\"colorbar\": {\"outlinewidth\": 0, \"ticks\": \"\"}}, \"type\": \"scatter3d\"}], \"scattercarpet\": [{\"marker\": {\"colorbar\": {\"outlinewidth\": 0, \"ticks\": \"\"}}, \"type\": \"scattercarpet\"}], \"scattergeo\": [{\"marker\": {\"colorbar\": {\"outlinewidth\": 0, \"ticks\": \"\"}}, \"type\": \"scattergeo\"}], \"scattergl\": [{\"marker\": {\"colorbar\": {\"outlinewidth\": 0, \"ticks\": \"\"}}, \"type\": \"scattergl\"}], \"scattermapbox\": [{\"marker\": {\"colorbar\": {\"outlinewidth\": 0, \"ticks\": \"\"}}, \"type\": \"scattermapbox\"}], \"scatterpolar\": [{\"marker\": {\"colorbar\": {\"outlinewidth\": 0, \"ticks\": \"\"}}, \"type\": \"scatterpolar\"}], \"scatterpolargl\": [{\"marker\": {\"colorbar\": {\"outlinewidth\": 0, \"ticks\": \"\"}}, \"type\": \"scatterpolargl\"}], \"scatterternary\": [{\"marker\": {\"colorbar\": {\"outlinewidth\": 0, \"ticks\": \"\"}}, \"type\": \"scatterternary\"}], \"surface\": [{\"colorbar\": {\"outlinewidth\": 0, \"ticks\": \"\"}, \"colorscale\": [[0.0, \"#0d0887\"], [0.1111111111111111, \"#46039f\"], [0.2222222222222222, \"#7201a8\"], [0.3333333333333333, \"#9c179e\"], [0.4444444444444444, \"#bd3786\"], [0.5555555555555556, \"#d8576b\"], [0.6666666666666666, \"#ed7953\"], [0.7777777777777778, \"#fb9f3a\"], [0.8888888888888888, \"#fdca26\"], [1.0, \"#f0f921\"]], \"type\": \"surface\"}], \"table\": [{\"cells\": {\"fill\": {\"color\": \"#EBF0F8\"}, \"line\": {\"color\": \"white\"}}, \"header\": {\"fill\": {\"color\": \"#C8D4E3\"}, \"line\": {\"color\": \"white\"}}, \"type\": \"table\"}]}, \"layout\": {\"annotationdefaults\": {\"arrowcolor\": \"#2a3f5f\", \"arrowhead\": 0, \"arrowwidth\": 1}, \"autotypenumbers\": \"strict\", \"coloraxis\": {\"colorbar\": {\"outlinewidth\": 0, \"ticks\": \"\"}}, \"colorscale\": {\"diverging\": [[0, \"#8e0152\"], [0.1, \"#c51b7d\"], [0.2, \"#de77ae\"], [0.3, \"#f1b6da\"], [0.4, \"#fde0ef\"], [0.5, \"#f7f7f7\"], [0.6, \"#e6f5d0\"], [0.7, \"#b8e186\"], [0.8, \"#7fbc41\"], [0.9, \"#4d9221\"], [1, \"#276419\"]], \"sequential\": [[0.0, \"#0d0887\"], [0.1111111111111111, \"#46039f\"], [0.2222222222222222, \"#7201a8\"], [0.3333333333333333, \"#9c179e\"], [0.4444444444444444, \"#bd3786\"], [0.5555555555555556, \"#d8576b\"], [0.6666666666666666, \"#ed7953\"], [0.7777777777777778, \"#fb9f3a\"], [0.8888888888888888, \"#fdca26\"], [1.0, \"#f0f921\"]], \"sequentialminus\": [[0.0, \"#0d0887\"], [0.1111111111111111, \"#46039f\"], [0.2222222222222222, \"#7201a8\"], [0.3333333333333333, \"#9c179e\"], [0.4444444444444444, \"#bd3786\"], [0.5555555555555556, \"#d8576b\"], [0.6666666666666666, \"#ed7953\"], [0.7777777777777778, \"#fb9f3a\"], [0.8888888888888888, \"#fdca26\"], [1.0, \"#f0f921\"]]}, \"colorway\": [\"#636efa\", \"#EF553B\", \"#00cc96\", \"#ab63fa\", \"#FFA15A\", \"#19d3f3\", \"#FF6692\", \"#B6E880\", \"#FF97FF\", \"#FECB52\"], \"font\": {\"color\": \"#2a3f5f\"}, \"geo\": {\"bgcolor\": \"white\", \"lakecolor\": \"white\", \"landcolor\": \"white\", \"showlakes\": true, \"showland\": true, \"subunitcolor\": \"#C8D4E3\"}, \"hoverlabel\": {\"align\": \"left\"}, \"hovermode\": \"closest\", \"mapbox\": {\"style\": \"light\"}, \"paper_bgcolor\": \"white\", \"plot_bgcolor\": \"white\", \"polar\": {\"angularaxis\": {\"gridcolor\": \"#EBF0F8\", \"linecolor\": \"#EBF0F8\", \"ticks\": \"\"}, \"bgcolor\": \"white\", \"radialaxis\": {\"gridcolor\": \"#EBF0F8\", \"linecolor\": \"#EBF0F8\", \"ticks\": \"\"}}, \"scene\": {\"xaxis\": {\"backgroundcolor\": \"white\", \"gridcolor\": \"#DFE8F3\", \"gridwidth\": 2, \"linecolor\": \"#EBF0F8\", \"showbackground\": true, \"ticks\": \"\", \"zerolinecolor\": \"#EBF0F8\"}, \"yaxis\": {\"backgroundcolor\": \"white\", \"gridcolor\": \"#DFE8F3\", \"gridwidth\": 2, \"linecolor\": \"#EBF0F8\", \"showbackground\": true, \"ticks\": \"\", \"zerolinecolor\": \"#EBF0F8\"}, \"zaxis\": {\"backgroundcolor\": \"white\", \"gridcolor\": \"#DFE8F3\", \"gridwidth\": 2, \"linecolor\": \"#EBF0F8\", \"showbackground\": true, \"ticks\": \"\", \"zerolinecolor\": \"#EBF0F8\"}}, \"shapedefaults\": {\"line\": {\"color\": \"#2a3f5f\"}}, \"ternary\": {\"aaxis\": {\"gridcolor\": \"#DFE8F3\", \"linecolor\": \"#A2B1C6\", \"ticks\": \"\"}, \"baxis\": {\"gridcolor\": \"#DFE8F3\", \"linecolor\": \"#A2B1C6\", \"ticks\": \"\"}, \"bgcolor\": \"white\", \"caxis\": {\"gridcolor\": \"#DFE8F3\", \"linecolor\": \"#A2B1C6\", \"ticks\": \"\"}}, \"title\": {\"x\": 0.05}, \"xaxis\": {\"automargin\": true, \"gridcolor\": \"#EBF0F8\", \"linecolor\": \"#EBF0F8\", \"ticks\": \"\", \"title\": {\"standoff\": 15}, \"zerolinecolor\": \"#EBF0F8\", \"zerolinewidth\": 2}, \"yaxis\": {\"automargin\": true, \"gridcolor\": \"#EBF0F8\", \"linecolor\": \"#EBF0F8\", \"ticks\": \"\", \"title\": {\"standoff\": 15}, \"zerolinecolor\": \"#EBF0F8\", \"zerolinewidth\": 2}}}, \"title\": {\"text\": \"hyperparameters min, max value at each round\"}, \"xaxis\": {\"anchor\": \"y\", \"domain\": [0.0, 0.2125]}, \"xaxis2\": {\"anchor\": \"y2\", \"domain\": [0.2625, 0.475]}, \"xaxis3\": {\"anchor\": \"y3\", \"domain\": [0.525, 0.7375]}, \"xaxis4\": {\"anchor\": \"y4\", \"domain\": [0.7875, 1.0]}, \"yaxis\": {\"anchor\": \"x\", \"domain\": [0.0, 1.0], \"title\": {\"text\": \"num_layers_conv\"}}, \"yaxis2\": {\"anchor\": \"x2\", \"domain\": [0.0, 1.0], \"title\": {\"text\": \"num_conv_filters\"}}, \"yaxis3\": {\"anchor\": \"x3\", \"domain\": [0.0, 1.0], \"title\": {\"text\": \"nodes_dense\"}}, \"yaxis4\": {\"anchor\": \"x4\", \"domain\": [0.0, 1.0], \"title\": {\"text\": \"lr\"}}},                        {\"responsive\": true}                    ).then(function(){\n",
              "                            \n",
              "var gd = document.getElementById('bb427a57-428a-4df9-bee0-6e31b011f601');\n",
              "var x = new MutationObserver(function (mutations, observer) {{\n",
              "        var display = window.getComputedStyle(gd).display;\n",
              "        if (!display || display === 'none') {{\n",
              "            console.log([gd, 'removed!']);\n",
              "            Plotly.purge(gd);\n",
              "            observer.disconnect();\n",
              "        }}\n",
              "}});\n",
              "\n",
              "// Listen for the removal of the full notebook cells\n",
              "var notebookContainer = gd.closest('#notebook-container');\n",
              "if (notebookContainer) {{\n",
              "    x.observe(notebookContainer, {childList: true});\n",
              "}}\n",
              "\n",
              "// Listen for the clearing of the current output cell\n",
              "var outputEl = gd.closest('.output');\n",
              "if (outputEl) {{\n",
              "    x.observe(outputEl, {childList: true});\n",
              "}}\n",
              "\n",
              "                        })                };                            </script>        </div>\n",
              "</body>\n",
              "</html>"
            ]
          },
          "metadata": {
            "tags": []
          }
        },
        {
          "output_type": "display_data",
          "data": {
            "text/html": [
              "<html>\n",
              "<head><meta charset=\"utf-8\" /></head>\n",
              "<body>\n",
              "    <div>            <script src=\"https://cdnjs.cloudflare.com/ajax/libs/mathjax/2.7.5/MathJax.js?config=TeX-AMS-MML_SVG\"></script><script type=\"text/javascript\">if (window.MathJax) {MathJax.Hub.Config({SVG: {font: \"STIX-Web\"}});}</script>                <script type=\"text/javascript\">window.PlotlyConfig = {MathJaxConfig: 'local'};</script>\n",
              "        <script src=\"https://cdn.plot.ly/plotly-latest.min.js\"></script>                <div id=\"3a5465c6-41c0-46cb-b022-bf70d0ee0849\" class=\"plotly-graph-div\" style=\"height:525px; width:100%;\"></div>            <script type=\"text/javascript\">                                    window.PLOTLYENV=window.PLOTLYENV || {};                                    if (document.getElementById(\"3a5465c6-41c0-46cb-b022-bf70d0ee0849\")) {                    Plotly.newPlot(                        \"3a5465c6-41c0-46cb-b022-bf70d0ee0849\",                        [{\"name\": \"Aisara Surface\", \"showlegend\": true, \"showscale\": false, \"type\": \"surface\", \"x\": [29.0, 38.9375, 48.875, 58.8125, 68.75, 78.6875, 88.625, 98.5625, 108.5, 118.4375, 128.375, 138.3125, 148.25, 158.1875, 168.125, 178.0625, 188.0], \"y\": [-3.8375639999999995, -3.7352162499999997, -3.6328685, -3.5305207499999995, -3.4281729999999997, -3.32582525, -3.2234774999999996, -3.1211297499999997, -3.018782, -2.91643425, -2.8140865, -2.71173875, -2.609391, -2.50704325, -2.4046955, -2.30234775, -2.2], \"z\": [[0.9219439325868999, 0.9248260847994135, 0.9279006201251675, 0.9308648849904897, 0.9335771959980593, 0.9360444481152387, 0.938131994376725, 0.9398823942008762, 0.9412306533480428, 0.942309705729435, 0.9431754803777975, 0.9439082980728327, 0.944721729384053, 0.9456860049543742, 0.9469969103231735, 0.9486345769779497, 0.950647384092919], [0.9073245495293796, 0.9106369472788566, 0.9142290525855116, 0.9177442991457233, 0.9210299371916248, 0.9240761174117519, 0.9267281573538338, 0.9290067952733624, 0.9308332742060376, 0.9323374738768339, 0.9335827315393503, 0.9346574371693585, 0.9357745381996226, 0.9369965254740784, 0.9385051057151215, 0.940270431015889, 0.9423351879313456], [0.8875473319558314, 0.8908597297053108, 0.8944518350119653, 0.8979670815721748, 0.901252719618078, 0.9042988998382055, 0.9069509397802864, 0.9092295776998167, 0.9110560566324901, 0.9125602563032856, 0.9138055139658039, 0.9148802195958133, 0.915997320626076, 0.9172193079005302, 0.9187278881415738, 0.9204932134423439, 0.9225579703577964], [0.88963954893661, 0.8933802584244889, 0.8975022143976784, 0.9015871937240936, 0.9054863677111772, 0.9091741600081475, 0.9125004006764176, 0.9154680382179535, 0.9179984397528084, 0.9201996928503609, 0.922128623432246, 0.9238631515445522, 0.9255783740232016, 0.9273073123530415, 0.9291795656077229, 0.931149512420636, 0.9332474839436232], [0.8826428057106227, 0.8863835151985033, 0.8905054711716923, 0.8945904504981066, 0.8984896244851923, 0.9021774167821629, 0.9055036574504319, 0.9084712949919691, 0.9110016965268217, 0.9132029496243748, 0.9151318802062604, 0.9168664083185664, 0.9185816307972164, 0.9203105691270558, 0.922182822381737, 0.9241527691946502, 0.9262507407176369], [0.8893273500591978, 0.8934660172451683, 0.8980947869131393, 0.9027305424380373, 0.9072372900071306, 0.911577020932221, 0.91562634161173, 0.9193821408049024, 0.9227811315681509, 0.9258967470259213, 0.9287607233168877, 0.9314162250699997, 0.9339710781630259, 0.9364184743473841, 0.938819762590382, 0.9411118605822903, 0.94330196137092], [0.8861930124518435, 0.8903316796378125, 0.8949604493057834, 0.8995962048306801, 0.9041029523997761, 0.9084426833248661, 0.9124920040043735, 0.9162478031975453, 0.919646793960796, 0.9227624094185664, 0.9256263857095322, 0.9282818874626464, 0.9308367405556716, 0.93328413674003, 0.9356854249830256, 0.9379775229749356, 0.9401676237635652], [0.8891423790138657, 0.8936286709132607, 0.8987237053092417, 0.9038841752257388, 0.9089893001770014, 0.9139895156296833, 0.9187944958864122, 0.9233976825562866, 0.9277548638313401, 0.9319012029614655, 0.9358375637696568, 0.9395635304465242, 0.9431094316579756, 0.9464248778229184, 0.9494962373747329, 0.9522359427270285, 0.9546142086283832], [0.8845514743438407, 0.8893112005289171, 0.8948132145871595, 0.9004645214766317, 0.9061618483727865, 0.9118371832732004, 0.9174259952798988, 0.9229055821174144, 0.9282466706053851, 0.9334450172091842, 0.9384783326210616, 0.9433119583576596, 0.9479032729732402, 0.952163313983412, 0.9559969865829785, 0.9592819271519509, 0.9619322786462936], [0.8738181422450352, 0.8785778684301099, 0.8840798824883531, 0.8897311893778256, 0.8954285162739816, 0.9011038511743945, 0.9066926631810933, 0.912172250018611, 0.9175133385065808, 0.9227116851103786, 0.9277450005222575, 0.9325786262588517, 0.9371699408744345, 0.9414299818846087, 0.9452636544841706, 0.9485485950531455, 0.9511989465474887], [0.8523228559532527, 0.857264656541785, 0.8630982308904258, 0.8691901154243621, 0.8754570806729713, 0.8817983048570442, 0.8881634865898048, 0.8944930273521132, 0.9007683218709198, 0.9069425168705585, 0.9129828436831845, 0.9188381232727275, 0.924404260239806, 0.929571091190237, 0.9341619507252557, 0.9380184378301576, 0.9409811144422372], [0.8269867618341905, 0.8319285624227227, 0.837762136771363, 0.8438540213052999, 0.8501209865539088, 0.8564622107379816, 0.8628273924707417, 0.8691569332330505, 0.8754322277518575, 0.8816064227514955, 0.8876467495641207, 0.8935020291536655, 0.8990681661207428, 0.9042349970711753, 0.9088258566061909, 0.9126823437110961, 0.915645020323177], [0.7811068753143591, 0.7861464445502936, 0.7922392435875105, 0.7987105704137825, 0.8054913227270706, 0.812430923013355, 0.8194854214117447, 0.8265438156062271, 0.8335974853291175, 0.8405535432790502, 0.8473781662515156, 0.8540183170632324, 0.8603210444311603, 0.8661802284678981, 0.8713561938620374, 0.8756797305822486, 0.8789269859852288], [0.7364496944036677, 0.7414892636396031, 0.7475820626768195, 0.7540533895030916, 0.7608341418163804, 0.7677737421026642, 0.7748282405010544, 0.7818866346955367, 0.788940304418427, 0.7958963623683591, 0.8027209853408249, 0.8093611361525415, 0.8156638635204698, 0.8215230475572066, 0.8266990129513463, 0.8310225496715578, 0.8342698050745379], [0.6710927807249828, 0.6761629262439965, 0.68244026937956, 0.6892064974202486, 0.6963893325777377, 0.7037825893440036, 0.7113418811544316, 0.7189078950181664, 0.7264793272515051, 0.7339221974807484, 0.7412029032747867, 0.7482708140326797, 0.7549399013500683, 0.7611264441586281, 0.7665679226142468, 0.7711291930073982, 0.7745720621939175], [0.6290731564962905, 0.6341433020153039, 0.6404206451508677, 0.6471868731915561, 0.6543697083490448, 0.6617629651153106, 0.6693222569257377, 0.6768882707894731, 0.6844597030228123, 0.6919025732520556, 0.6991832790460953, 0.7062511898039865, 0.7129202771213758, 0.7191068199299357, 0.7245482983855541, 0.7291095687787054, 0.7325524379652251], [0.5858176484901652, 0.5908531995222392, 0.5971974815126916, 0.604105690136598, 0.61148840279901, 0.6191022784164247, 0.6268944980154953, 0.634677678587698, 0.64244770768039, 0.6500466340384771, 0.6574365539091057, 0.6645667312134877, 0.6712424229977388, 0.6774061511608289, 0.6828166513064184, 0.687396196231684, 0.6909414005836362]]}, {\"marker\": {\"color\": \"grey\"}, \"mode\": \"markers\", \"name\": \"Optimization Trials\", \"type\": \"scatter3d\", \"x\": [67, 143, 181, 105, 29, 143, 165, 98, 188, 121, 157, 116, 143, 129, 170], \"y\": [-3.0, -3.8, -2.5999999999999996, -3.4, -2.2, -3.7812179999999995, -3.8187819999999997, -3.8, -3.7624359999999997, -3.8375639999999995, -3.7989270782499998, -3.772363460875, -3.7635089217499997, -3.7900725391249996, -3.781218], \"z\": [0.9107000231742859, 0.9228000044822693, 0.8801000118255615, 0.9168999791145325, 0.48919999599456787, 0.9229999780654907, 0.9146000146865845, 0.9221000075340271, 0.9193999767303467, 0.9171000123023987, 0.921999990940094, 0.9246000051498413, 0.9225000143051147, 0.9244999885559082, 0.9251999855041504]}],                        {\"scene\": {\"xaxis\": {\"title\": {\"text\": \"nodes_dense\"}}, \"yaxis\": {\"title\": {\"text\": \"log_lr\"}}, \"zaxis\": {\"title\": {\"text\": \"val_acc\"}}}, \"template\": {\"data\": {\"bar\": [{\"error_x\": {\"color\": \"#2a3f5f\"}, \"error_y\": {\"color\": \"#2a3f5f\"}, \"marker\": {\"line\": {\"color\": \"white\", \"width\": 0.5}}, \"type\": \"bar\"}], \"barpolar\": [{\"marker\": {\"line\": {\"color\": \"white\", \"width\": 0.5}}, \"type\": \"barpolar\"}], \"carpet\": [{\"aaxis\": {\"endlinecolor\": \"#2a3f5f\", \"gridcolor\": \"#C8D4E3\", \"linecolor\": \"#C8D4E3\", \"minorgridcolor\": \"#C8D4E3\", \"startlinecolor\": \"#2a3f5f\"}, \"baxis\": {\"endlinecolor\": \"#2a3f5f\", \"gridcolor\": \"#C8D4E3\", \"linecolor\": \"#C8D4E3\", \"minorgridcolor\": \"#C8D4E3\", \"startlinecolor\": \"#2a3f5f\"}, \"type\": \"carpet\"}], \"choropleth\": [{\"colorbar\": {\"outlinewidth\": 0, \"ticks\": \"\"}, \"type\": \"choropleth\"}], \"contour\": [{\"colorbar\": {\"outlinewidth\": 0, \"ticks\": \"\"}, \"colorscale\": [[0.0, \"#0d0887\"], [0.1111111111111111, \"#46039f\"], [0.2222222222222222, \"#7201a8\"], [0.3333333333333333, \"#9c179e\"], [0.4444444444444444, \"#bd3786\"], [0.5555555555555556, \"#d8576b\"], [0.6666666666666666, \"#ed7953\"], [0.7777777777777778, \"#fb9f3a\"], [0.8888888888888888, \"#fdca26\"], [1.0, \"#f0f921\"]], \"type\": \"contour\"}], \"contourcarpet\": [{\"colorbar\": {\"outlinewidth\": 0, \"ticks\": \"\"}, \"type\": \"contourcarpet\"}], \"heatmap\": [{\"colorbar\": {\"outlinewidth\": 0, \"ticks\": \"\"}, \"colorscale\": [[0.0, \"#0d0887\"], [0.1111111111111111, \"#46039f\"], [0.2222222222222222, \"#7201a8\"], [0.3333333333333333, \"#9c179e\"], [0.4444444444444444, \"#bd3786\"], [0.5555555555555556, \"#d8576b\"], [0.6666666666666666, \"#ed7953\"], [0.7777777777777778, \"#fb9f3a\"], [0.8888888888888888, \"#fdca26\"], [1.0, \"#f0f921\"]], \"type\": \"heatmap\"}], \"heatmapgl\": [{\"colorbar\": {\"outlinewidth\": 0, \"ticks\": \"\"}, \"colorscale\": [[0.0, \"#0d0887\"], [0.1111111111111111, \"#46039f\"], [0.2222222222222222, \"#7201a8\"], [0.3333333333333333, \"#9c179e\"], [0.4444444444444444, \"#bd3786\"], [0.5555555555555556, \"#d8576b\"], [0.6666666666666666, \"#ed7953\"], [0.7777777777777778, \"#fb9f3a\"], [0.8888888888888888, \"#fdca26\"], [1.0, \"#f0f921\"]], \"type\": \"heatmapgl\"}], \"histogram\": [{\"marker\": {\"colorbar\": {\"outlinewidth\": 0, \"ticks\": \"\"}}, \"type\": \"histogram\"}], \"histogram2d\": [{\"colorbar\": {\"outlinewidth\": 0, \"ticks\": \"\"}, \"colorscale\": [[0.0, \"#0d0887\"], [0.1111111111111111, \"#46039f\"], [0.2222222222222222, \"#7201a8\"], [0.3333333333333333, \"#9c179e\"], [0.4444444444444444, \"#bd3786\"], [0.5555555555555556, \"#d8576b\"], [0.6666666666666666, \"#ed7953\"], [0.7777777777777778, \"#fb9f3a\"], [0.8888888888888888, \"#fdca26\"], [1.0, \"#f0f921\"]], \"type\": \"histogram2d\"}], \"histogram2dcontour\": [{\"colorbar\": {\"outlinewidth\": 0, \"ticks\": \"\"}, \"colorscale\": [[0.0, \"#0d0887\"], [0.1111111111111111, \"#46039f\"], [0.2222222222222222, \"#7201a8\"], [0.3333333333333333, \"#9c179e\"], [0.4444444444444444, \"#bd3786\"], [0.5555555555555556, \"#d8576b\"], [0.6666666666666666, \"#ed7953\"], [0.7777777777777778, \"#fb9f3a\"], [0.8888888888888888, \"#fdca26\"], [1.0, \"#f0f921\"]], \"type\": \"histogram2dcontour\"}], \"mesh3d\": [{\"colorbar\": {\"outlinewidth\": 0, \"ticks\": \"\"}, \"type\": \"mesh3d\"}], \"parcoords\": [{\"line\": {\"colorbar\": {\"outlinewidth\": 0, \"ticks\": \"\"}}, \"type\": \"parcoords\"}], \"pie\": [{\"automargin\": true, \"type\": \"pie\"}], \"scatter\": [{\"marker\": {\"colorbar\": {\"outlinewidth\": 0, \"ticks\": \"\"}}, \"type\": \"scatter\"}], \"scatter3d\": [{\"line\": {\"colorbar\": {\"outlinewidth\": 0, \"ticks\": \"\"}}, \"marker\": {\"colorbar\": {\"outlinewidth\": 0, \"ticks\": \"\"}}, \"type\": \"scatter3d\"}], \"scattercarpet\": [{\"marker\": {\"colorbar\": {\"outlinewidth\": 0, \"ticks\": \"\"}}, \"type\": \"scattercarpet\"}], \"scattergeo\": [{\"marker\": {\"colorbar\": {\"outlinewidth\": 0, \"ticks\": \"\"}}, \"type\": \"scattergeo\"}], \"scattergl\": [{\"marker\": {\"colorbar\": {\"outlinewidth\": 0, \"ticks\": \"\"}}, \"type\": \"scattergl\"}], \"scattermapbox\": [{\"marker\": {\"colorbar\": {\"outlinewidth\": 0, \"ticks\": \"\"}}, \"type\": \"scattermapbox\"}], \"scatterpolar\": [{\"marker\": {\"colorbar\": {\"outlinewidth\": 0, \"ticks\": \"\"}}, \"type\": \"scatterpolar\"}], \"scatterpolargl\": [{\"marker\": {\"colorbar\": {\"outlinewidth\": 0, \"ticks\": \"\"}}, \"type\": \"scatterpolargl\"}], \"scatterternary\": [{\"marker\": {\"colorbar\": {\"outlinewidth\": 0, \"ticks\": \"\"}}, \"type\": \"scatterternary\"}], \"surface\": [{\"colorbar\": {\"outlinewidth\": 0, \"ticks\": \"\"}, \"colorscale\": [[0.0, \"#0d0887\"], [0.1111111111111111, \"#46039f\"], [0.2222222222222222, \"#7201a8\"], [0.3333333333333333, \"#9c179e\"], [0.4444444444444444, \"#bd3786\"], [0.5555555555555556, \"#d8576b\"], [0.6666666666666666, \"#ed7953\"], [0.7777777777777778, \"#fb9f3a\"], [0.8888888888888888, \"#fdca26\"], [1.0, \"#f0f921\"]], \"type\": \"surface\"}], \"table\": [{\"cells\": {\"fill\": {\"color\": \"#EBF0F8\"}, \"line\": {\"color\": \"white\"}}, \"header\": {\"fill\": {\"color\": \"#C8D4E3\"}, \"line\": {\"color\": \"white\"}}, \"type\": \"table\"}]}, \"layout\": {\"annotationdefaults\": {\"arrowcolor\": \"#2a3f5f\", \"arrowhead\": 0, \"arrowwidth\": 1}, \"autotypenumbers\": \"strict\", \"coloraxis\": {\"colorbar\": {\"outlinewidth\": 0, \"ticks\": \"\"}}, \"colorscale\": {\"diverging\": [[0, \"#8e0152\"], [0.1, \"#c51b7d\"], [0.2, \"#de77ae\"], [0.3, \"#f1b6da\"], [0.4, \"#fde0ef\"], [0.5, \"#f7f7f7\"], [0.6, \"#e6f5d0\"], [0.7, \"#b8e186\"], [0.8, \"#7fbc41\"], [0.9, \"#4d9221\"], [1, \"#276419\"]], \"sequential\": [[0.0, \"#0d0887\"], [0.1111111111111111, \"#46039f\"], [0.2222222222222222, \"#7201a8\"], [0.3333333333333333, \"#9c179e\"], [0.4444444444444444, \"#bd3786\"], [0.5555555555555556, \"#d8576b\"], [0.6666666666666666, \"#ed7953\"], [0.7777777777777778, \"#fb9f3a\"], [0.8888888888888888, \"#fdca26\"], [1.0, \"#f0f921\"]], \"sequentialminus\": [[0.0, \"#0d0887\"], [0.1111111111111111, \"#46039f\"], [0.2222222222222222, \"#7201a8\"], [0.3333333333333333, \"#9c179e\"], [0.4444444444444444, \"#bd3786\"], [0.5555555555555556, \"#d8576b\"], [0.6666666666666666, \"#ed7953\"], [0.7777777777777778, \"#fb9f3a\"], [0.8888888888888888, \"#fdca26\"], [1.0, \"#f0f921\"]]}, \"colorway\": [\"#636efa\", \"#EF553B\", \"#00cc96\", \"#ab63fa\", \"#FFA15A\", \"#19d3f3\", \"#FF6692\", \"#B6E880\", \"#FF97FF\", \"#FECB52\"], \"font\": {\"color\": \"#2a3f5f\"}, \"geo\": {\"bgcolor\": \"white\", \"lakecolor\": \"white\", \"landcolor\": \"white\", \"showlakes\": true, \"showland\": true, \"subunitcolor\": \"#C8D4E3\"}, \"hoverlabel\": {\"align\": \"left\"}, \"hovermode\": \"closest\", \"mapbox\": {\"style\": \"light\"}, \"paper_bgcolor\": \"white\", \"plot_bgcolor\": \"white\", \"polar\": {\"angularaxis\": {\"gridcolor\": \"#EBF0F8\", \"linecolor\": \"#EBF0F8\", \"ticks\": \"\"}, \"bgcolor\": \"white\", \"radialaxis\": {\"gridcolor\": \"#EBF0F8\", \"linecolor\": \"#EBF0F8\", \"ticks\": \"\"}}, \"scene\": {\"xaxis\": {\"backgroundcolor\": \"white\", \"gridcolor\": \"#DFE8F3\", \"gridwidth\": 2, \"linecolor\": \"#EBF0F8\", \"showbackground\": true, \"ticks\": \"\", \"zerolinecolor\": \"#EBF0F8\"}, \"yaxis\": {\"backgroundcolor\": \"white\", \"gridcolor\": \"#DFE8F3\", \"gridwidth\": 2, \"linecolor\": \"#EBF0F8\", \"showbackground\": true, \"ticks\": \"\", \"zerolinecolor\": \"#EBF0F8\"}, \"zaxis\": {\"backgroundcolor\": \"white\", \"gridcolor\": \"#DFE8F3\", \"gridwidth\": 2, \"linecolor\": \"#EBF0F8\", \"showbackground\": true, \"ticks\": \"\", \"zerolinecolor\": \"#EBF0F8\"}}, \"shapedefaults\": {\"line\": {\"color\": \"#2a3f5f\"}}, \"ternary\": {\"aaxis\": {\"gridcolor\": \"#DFE8F3\", \"linecolor\": \"#A2B1C6\", \"ticks\": \"\"}, \"baxis\": {\"gridcolor\": \"#DFE8F3\", \"linecolor\": \"#A2B1C6\", \"ticks\": \"\"}, \"bgcolor\": \"white\", \"caxis\": {\"gridcolor\": \"#DFE8F3\", \"linecolor\": \"#A2B1C6\", \"ticks\": \"\"}}, \"title\": {\"x\": 0.05}, \"xaxis\": {\"automargin\": true, \"gridcolor\": \"#EBF0F8\", \"linecolor\": \"#EBF0F8\", \"ticks\": \"\", \"title\": {\"standoff\": 15}, \"zerolinecolor\": \"#EBF0F8\", \"zerolinewidth\": 2}, \"yaxis\": {\"automargin\": true, \"gridcolor\": \"#EBF0F8\", \"linecolor\": \"#EBF0F8\", \"ticks\": \"\", \"title\": {\"standoff\": 15}, \"zerolinecolor\": \"#EBF0F8\", \"zerolinewidth\": 2}}}},                        {\"responsive\": true}                    ).then(function(){\n",
              "                            \n",
              "var gd = document.getElementById('3a5465c6-41c0-46cb-b022-bf70d0ee0849');\n",
              "var x = new MutationObserver(function (mutations, observer) {{\n",
              "        var display = window.getComputedStyle(gd).display;\n",
              "        if (!display || display === 'none') {{\n",
              "            console.log([gd, 'removed!']);\n",
              "            Plotly.purge(gd);\n",
              "            observer.disconnect();\n",
              "        }}\n",
              "}});\n",
              "\n",
              "// Listen for the removal of the full notebook cells\n",
              "var notebookContainer = gd.closest('#notebook-container');\n",
              "if (notebookContainer) {{\n",
              "    x.observe(notebookContainer, {childList: true});\n",
              "}}\n",
              "\n",
              "// Listen for the clearing of the current output cell\n",
              "var outputEl = gd.closest('.output');\n",
              "if (outputEl) {{\n",
              "    x.observe(outputEl, {childList: true});\n",
              "}}\n",
              "\n",
              "                        })                };                            </script>        </div>\n",
              "</body>\n",
              "</html>"
            ]
          },
          "metadata": {
            "tags": []
          }
        }
      ]
    },
    {
      "cell_type": "code",
      "metadata": {
        "id": "aJ7kpEmuGNG_",
        "colab": {
          "base_uri": "https://localhost:8080/"
        },
        "outputId": "f3eed7ac-5413-4fff-cf6e-1d99bea65e6e"
      },
      "source": [
        "# best model hyperparameters\n",
        "print(demo.best_model_hps)"
      ],
      "execution_count": null,
      "outputs": [
        {
          "output_type": "stream",
          "text": [
            " num_layers_conv  num_conv_filters  nodes_dense        lr\n",
            "               4               152          170  0.000165\n"
          ],
          "name": "stdout"
        }
      ]
    },
    {
      "cell_type": "code",
      "metadata": {
        "id": "wWpZuaBqGNyp",
        "colab": {
          "base_uri": "https://localhost:8080/"
        },
        "outputId": "be8f6981-8a7d-4852-fdc3-1f5e341f4daf"
      },
      "source": [
        "# loading the best model\n",
        "best = demo.best_model\n",
        "best.summary()"
      ],
      "execution_count": null,
      "outputs": [
        {
          "output_type": "stream",
          "text": [
            "Model: \"sequential_16\"\n",
            "_________________________________________________________________\n",
            "Layer (type)                 Output Shape              Param #   \n",
            "=================================================================\n",
            "conv2d_79 (Conv2D)           (None, 28, 28, 32)        320       \n",
            "_________________________________________________________________\n",
            "conv2d_80 (Conv2D)           (None, 28, 28, 152)       43928     \n",
            "_________________________________________________________________\n",
            "conv2d_81 (Conv2D)           (None, 28, 28, 152)       208088    \n",
            "_________________________________________________________________\n",
            "conv2d_82 (Conv2D)           (None, 28, 28, 152)       208088    \n",
            "_________________________________________________________________\n",
            "conv2d_83 (Conv2D)           (None, 28, 28, 152)       208088    \n",
            "_________________________________________________________________\n",
            "batch_normalization_16 (Batc (None, 28, 28, 152)       608       \n",
            "_________________________________________________________________\n",
            "max_pooling2d_16 (MaxPooling (None, 14, 14, 152)       0         \n",
            "_________________________________________________________________\n",
            "flatten_16 (Flatten)         (None, 29792)             0         \n",
            "_________________________________________________________________\n",
            "dense_32 (Dense)             (None, 170)               5064810   \n",
            "_________________________________________________________________\n",
            "dropout_16 (Dropout)         (None, 170)               0         \n",
            "_________________________________________________________________\n",
            "dense_33 (Dense)             (None, 10)                1710      \n",
            "=================================================================\n",
            "Total params: 5,735,640\n",
            "Trainable params: 5,735,336\n",
            "Non-trainable params: 304\n",
            "_________________________________________________________________\n"
          ],
          "name": "stdout"
        }
      ]
    },
    {
      "cell_type": "code",
      "metadata": {
        "id": "eKvHsBxc7yPb"
      },
      "source": [
        ""
      ],
      "execution_count": null,
      "outputs": []
    }
  ]
}
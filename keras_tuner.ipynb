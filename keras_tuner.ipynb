{
  "nbformat": 4,
  "nbformat_minor": 0,
  "metadata": {
    "colab": {
      "name": "keras-tuner.ipynb",
      "provenance": [],
      "collapsed_sections": [],
      "mount_file_id": "1UVTHeHZ_eu69-q9FPysjCv24egsUZ1fX",
      "authorship_tag": "ABX9TyN0CfssKM4Dy9k9AX+KhxmC",
      "include_colab_link": true
    },
    "kernelspec": {
      "name": "python3",
      "display_name": "Python 3"
    },
    "accelerator": "GPU"
  },
  "cells": [
    {
      "cell_type": "markdown",
      "metadata": {
        "id": "view-in-github",
        "colab_type": "text"
      },
      "source": [
        "<a href=\"https://colab.research.google.com/github/oakhtar147/hyperparameter-tuning/blob/main/keras_tuner.ipynb\" target=\"_parent\"><img src=\"https://colab.research.google.com/assets/colab-badge.svg\" alt=\"Open In Colab\"/></a>"
      ]
    },
    {
      "cell_type": "code",
      "metadata": {
        "id": "U-0bshwy1pEt"
      },
      "source": [
        "from IPython.display import clear_output"
      ],
      "execution_count": null,
      "outputs": []
    },
    {
      "cell_type": "code",
      "metadata": {
        "id": "Qw5qBHq6FWcK"
      },
      "source": [
        "!pip install keras-tuner\n",
        "clear_output()"
      ],
      "execution_count": null,
      "outputs": []
    },
    {
      "cell_type": "code",
      "metadata": {
        "colab": {
          "base_uri": "https://localhost:8080/"
        },
        "id": "CrvMRRzasfRp",
        "outputId": "044d3e98-af37-49eb-b23a-ab0ccdcdc0e0"
      },
      "source": [
        "!nvidia-smi"
      ],
      "execution_count": null,
      "outputs": [
        {
          "output_type": "stream",
          "text": [
            "Fri Dec 11 16:46:10 2020       \n",
            "+-----------------------------------------------------------------------------+\n",
            "| NVIDIA-SMI 455.45.01    Driver Version: 418.67       CUDA Version: 10.1     |\n",
            "|-------------------------------+----------------------+----------------------+\n",
            "| GPU  Name        Persistence-M| Bus-Id        Disp.A | Volatile Uncorr. ECC |\n",
            "| Fan  Temp  Perf  Pwr:Usage/Cap|         Memory-Usage | GPU-Util  Compute M. |\n",
            "|                               |                      |               MIG M. |\n",
            "|===============================+======================+======================|\n",
            "|   0  Tesla T4            Off  | 00000000:00:04.0 Off |                    0 |\n",
            "| N/A   72C    P0    31W /  70W |   1893MiB / 15079MiB |      0%      Default |\n",
            "|                               |                      |                 ERR! |\n",
            "+-------------------------------+----------------------+----------------------+\n",
            "                                                                               \n",
            "+-----------------------------------------------------------------------------+\n",
            "| Processes:                                                                  |\n",
            "|  GPU   GI   CI        PID   Type   Process name                  GPU Memory |\n",
            "|        ID   ID                                                   Usage      |\n",
            "|=============================================================================|\n",
            "|  No running processes found                                                 |\n",
            "+-----------------------------------------------------------------------------+\n"
          ],
          "name": "stdout"
        }
      ]
    },
    {
      "cell_type": "code",
      "metadata": {
        "id": "JZrFEZpuFmjA"
      },
      "source": [
        "from kerastuner.tuners.randomsearch import RandomSearch\n",
        "from kerastuner.tuners.hyperband import Hyperband\n",
        "from kerastuner.engine.hyperparameters import HyperParameters\n",
        "\n",
        "from tensorflow.keras.datasets import fashion_mnist\n",
        "from tensorflow.keras.utils import to_categorical\n",
        "from tensorflow.keras import backend\n",
        "from tensorflow.keras.models import Sequential\n",
        "from tensorflow.keras.layers import Dense, Dropout, Flatten, BatchNormalization\n",
        "from tensorflow.keras.layers import Conv2D, MaxPooling2D\n",
        "from tensorflow.keras import optimizers\n",
        "\n",
        "import matplotlib.pyplot as plt\n",
        "import time\n",
        "import warnings"
      ],
      "execution_count": null,
      "outputs": []
    },
    {
      "cell_type": "code",
      "metadata": {
        "id": "6WMbQNqDvQcL"
      },
      "source": [
        "warnings.filterwarnings('ignore')\r\n",
        "LOG_DIR = \"/content/drive/MyDrive/logs\""
      ],
      "execution_count": null,
      "outputs": []
    },
    {
      "cell_type": "code",
      "metadata": {
        "id": "S5NnPTvhFohB"
      },
      "source": [
        "#load Mnist dataset and visualize the first 10 pics in training and testing\n",
        "(X_train, y_train), (X_test,y_test) = fashion_mnist.load_data() \n",
        "# X_train.setflags(write=1)\n",
        "# y_train.setflags(write=1)\n",
        "# X_test.setflags(write=1)\n",
        "# y_test.setflags(write=1)"
      ],
      "execution_count": null,
      "outputs": []
    },
    {
      "cell_type": "code",
      "metadata": {
        "id": "ZhNjT_q-BovA"
      },
      "source": [
        "class_mapping = {0: 'T-shirt/top', \r\n",
        "    1: 'Trouser', \r\n",
        "    2: 'Pullover', \r\n",
        "    3: 'Dress', \r\n",
        "    4: 'Coat', \r\n",
        "    5: 'Sandal',\r\n",
        "    6: 'Shirt',\r\n",
        "    7: 'Sneaker',\r\n",
        "    8: 'Bag',\r\n",
        "    9: 'Ankle boot'\r\n",
        "    }"
      ],
      "execution_count": null,
      "outputs": []
    },
    {
      "cell_type": "code",
      "metadata": {
        "colab": {
          "base_uri": "https://localhost:8080/",
          "height": 226
        },
        "id": "OoCI02DKAPir",
        "outputId": "425ed8cf-5d5a-4abe-e373-ab49808659bf"
      },
      "source": [
        "fig = plt.figure(figsize=(10,10))\r\n",
        "print(\"Train Images\")\r\n",
        "for i in range(3):\r\n",
        "    plt.subplot(1,3,i+1)\r\n",
        "    plt.xticks([])\r\n",
        "    plt.yticks([])\r\n",
        "    plt.grid(False)\r\n",
        "    plt.imshow(X_train[i], cmap=plt.cm.binary)\r\n",
        "    plt.xlabel(class_mapping[y_train[i]])"
      ],
      "execution_count": null,
      "outputs": [
        {
          "output_type": "stream",
          "text": [
            "Train Images\n"
          ],
          "name": "stdout"
        },
        {
          "output_type": "display_data",
          "data": {
            "image/png": "[encoded data removed]",
            "text/plain": [
              "<Figure size 720x720 with 3 Axes>"
            ]
          },
          "metadata": {
            "tags": []
          }
        }
      ]
    },
    {
      "cell_type": "code",
      "metadata": {
        "colab": {
          "base_uri": "https://localhost:8080/",
          "height": 226
        },
        "id": "eJniAQF5DKVy",
        "outputId": "ba0b4fd6-6429-433b-dd16-fcfcda098cbb"
      },
      "source": [
        "fig = plt.figure(figsize=(10,10))\r\n",
        "print(\"Test Images\")\r\n",
        "for i in range(3):\r\n",
        "    plt.subplot(1,3,i+1)\r\n",
        "    plt.xticks([])\r\n",
        "    plt.yticks([])\r\n",
        "    plt.grid(False)\r\n",
        "    plt.imshow(X_test[i], cmap=plt.cm.binary)\r\n",
        "    plt.xlabel(class_mapping[y_test[i]])"
      ],
      "execution_count": null,
      "outputs": [
        {
          "output_type": "stream",
          "text": [
            "Test Images\n"
          ],
          "name": "stdout"
        },
        {
          "output_type": "display_data",
          "data": {
            "image/png": "[encoded data removed]",
            "text/plain": [
              "<Figure size 720x720 with 3 Axes>"
            ]
          },
          "metadata": {
            "tags": []
          }
        }
      ]
    },
    {
      "cell_type": "code",
      "metadata": {
        "id": "ox0t2cKcFq0b"
      },
      "source": [
        "# data normalization and preparation\n",
        "X_train = X_train/255.\n",
        "X_test = X_test/255.\n",
        "\n",
        "y_train = to_categorical(y_train,)\n",
        "y_test = to_categorical(y_test)\n",
        "\n",
        "IMG_ROWS, IMG_COLS = 28, 28\n",
        "if backend.image_data_format() == 'channels_first':\n",
        "    X_train = X_train.reshape(X_train.shape[0], 1, IMG_ROWS, IMG_COLS)\n",
        "    X_test = x_test.reshape(X_test.shape[0], 1, IMG_ROWS, IMG_COLS)\n",
        "    input_shape = (1, IMG_ROWS, IMG_COLS)\n",
        "else:\n",
        "    X_train = X_train.reshape(X_train.shape[0], IMG_ROWS, IMG_COLS, 1)\n",
        "    X_test = X_test.reshape(X_test.shape[0], IMG_ROWS, IMG_COLS, 1)\n",
        "    input_shape = (IMG_ROWS, IMG_COLS, 1)"
      ],
      "execution_count": null,
      "outputs": []
    },
    {
      "cell_type": "code",
      "metadata": {
        "id": "P2HW68sxx2gV"
      },
      "source": [
        "# define keras model and return model history\r\n",
        "def build_model(hp):\r\n",
        "    model = Sequential()\r\n",
        "    model.add(Conv2D(32, kernel_size=(3, 3), activation='relu', input_shape=input_shape, padding='same'))\r\n",
        "    for layer in range(hp.Int('layer_count', min_value=2, max_value=5)):\r\n",
        "        model.add(Conv2D(hp.Int(f'conv_{layer}', min_value=32, max_value=256, step=32), hp.Choice(f'conv_{layer}_fsize', values=[3, 5]), activation='relu', padding='same'))\r\n",
        "\r\n",
        "    model.add(BatchNormalization())    \r\n",
        "    model.add(MaxPooling2D(pool_size=(2, 2)))\r\n",
        "    model.add(Flatten())\r\n",
        "    model.add(Dense(hp.Int('dense_units', min_value=10, max_value=200, step=40), activation='relu'))\r\n",
        "    model.add(Dropout(0.2))\r\n",
        "    model.add(Dense(10, activation='softmax'))\r\n",
        "    model.compile(loss='categorical_crossentropy', optimizer=optimizers.Adam(hp.Choice('lr', values=[0.0001, 0.001, 0.01])),metrics=['accuracy'])\r\n",
        "\r\n",
        "    return model"
      ],
      "execution_count": null,
      "outputs": []
    },
    {
      "cell_type": "code",
      "metadata": {
        "id": "ZwgLa13Zu2Ht"
      },
      "source": [
        "tuner = RandomSearch(\r\n",
        "    build_model,\r\n",
        "    objective='val_accuracy',\r\n",
        "    max_trials=15,\r\n",
        "    executions_per_trial=1,\r\n",
        "    directory=LOG_DIR,\r\n",
        "    project_name=\"keras_tuner\"\r\n",
        ")"
      ],
      "execution_count": null,
      "outputs": []
    },
    {
      "cell_type": "code",
      "metadata": {
        "colab": {
          "base_uri": "https://localhost:8080/"
        },
        "id": "1HfA-8e2wpcT",
        "outputId": "d887be92-3ebc-4aa5-8f6c-2efe472e48a8"
      },
      "source": [
        "start = time.time()\r\n",
        "tuner.search(X_train, y_train, \r\n",
        "        epochs=3, \r\n",
        "        validation_data=(X_test, y_test) \r\n",
        "    )\r\n",
        "print(f\"It took {time.time() - start:.2f}s to complete this search\")"
      ],
      "execution_count": null,
      "outputs": [
        {
          "output_type": "stream",
          "text": [
            "Trial 15 Complete [00h 02m 10s]\n",
            "val_accuracy: 0.758400022983551\n",
            "\n",
            "Best val_accuracy So Far: 0.9279000163078308\n",
            "Total elapsed time: 00h 19m 22s\n",
            "INFO:tensorflow:Oracle triggered exit\n",
            "It took 1162.78s to complete this search\n"
          ],
          "name": "stdout"
        }
      ]
    },
    {
      "cell_type": "code",
      "metadata": {
        "colab": {
          "base_uri": "https://localhost:8080/"
        },
        "id": "eiC0afxD02ir",
        "outputId": "4b34b741-3abd-45ed-b11b-c265eb1a7426"
      },
      "source": [
        "best_model_hyperparameters = tuner.get_best_hyperparameters(num_trials=1)[0]\r\n",
        "lr = best_model_hyperparameters.get('lr')\r\n",
        "lr\r\n",
        "# you can get other best hyperparameters you dynamically set as well"
      ],
      "execution_count": null,
      "outputs": [
        {
          "output_type": "execute_result",
          "data": {
            "text/plain": [
              "0.0001"
            ]
          },
          "metadata": {
            "tags": []
          },
          "execution_count": 24
        }
      ]
    },
    {
      "cell_type": "code",
      "metadata": {
        "colab": {
          "base_uri": "https://localhost:8080/"
        },
        "id": "UYWJqQ629C86",
        "outputId": "b5d5f6c8-001f-48ab-ccfe-231e99378d9a"
      },
      "source": [
        "best_model = tuner.get_best_models(num_models=1)[0]\r\n",
        "best_model.summary() # keras model that you can further train"
      ],
      "execution_count": null,
      "outputs": [
        {
          "output_type": "stream",
          "text": [
            "Model: \"sequential\"\n",
            "_________________________________________________________________\n",
            "Layer (type)                 Output Shape              Param #   \n",
            "=================================================================\n",
            "conv2d (Conv2D)              (None, 28, 28, 32)        320       \n",
            "_________________________________________________________________\n",
            "conv2d_1 (Conv2D)            (None, 28, 28, 160)       128160    \n",
            "_________________________________________________________________\n",
            "conv2d_2 (Conv2D)            (None, 28, 28, 192)       276672    \n",
            "_________________________________________________________________\n",
            "batch_normalization (BatchNo (None, 28, 28, 192)       768       \n",
            "_________________________________________________________________\n",
            "max_pooling2d (MaxPooling2D) (None, 14, 14, 192)       0         \n",
            "_________________________________________________________________\n",
            "flatten (Flatten)            (None, 37632)             0         \n",
            "_________________________________________________________________\n",
            "dense (Dense)                (None, 170)               6397610   \n",
            "_________________________________________________________________\n",
            "dropout (Dropout)            (None, 170)               0         \n",
            "_________________________________________________________________\n",
            "dense_1 (Dense)              (None, 10)                1710      \n",
            "=================================================================\n",
            "Total params: 6,805,240\n",
            "Trainable params: 6,804,856\n",
            "Non-trainable params: 384\n",
            "_________________________________________________________________\n"
          ],
          "name": "stdout"
        }
      ]
    },
    {
      "cell_type": "code",
      "metadata": {
        "colab": {
          "base_uri": "https://localhost:8080/"
        },
        "id": "YCeAJCtz-bd6",
        "outputId": "40b08515-37c0-4129-92ea-38b52733dc6c"
      },
      "source": [
        "tuner.results_summary(num_trials=15)"
      ],
      "execution_count": null,
      "outputs": [
        {
          "output_type": "stream",
          "text": [
            "Results summary\n",
            "Results in /content/drive/MyDrive/logs/keras_tuner\n",
            "Showing 15 best trials\n",
            "Objective(name='val_accuracy', direction='max')\n",
            "Trial summary\n",
            "Hyperparameters:\n",
            "layer_count: 2\n",
            "conv_0: 160\n",
            "conv_0_fsize: 5\n",
            "conv_1: 192\n",
            "conv_1_fsize: 3\n",
            "dense_units: 170\n",
            "lr: 0.0001\n",
            "conv_2: 160\n",
            "conv_2_fsize: 3\n",
            "conv_3: 32\n",
            "conv_3_fsize: 3\n",
            "Score: 0.9279000163078308\n",
            "Trial summary\n",
            "Hyperparameters:\n",
            "layer_count: 4\n",
            "conv_0: 192\n",
            "conv_0_fsize: 3\n",
            "conv_1: 32\n",
            "conv_1_fsize: 3\n",
            "dense_units: 130\n",
            "lr: 0.0001\n",
            "conv_2: 96\n",
            "conv_2_fsize: 5\n",
            "conv_3: 160\n",
            "conv_3_fsize: 3\n",
            "Score: 0.9279000163078308\n",
            "Trial summary\n",
            "Hyperparameters:\n",
            "layer_count: 2\n",
            "conv_0: 224\n",
            "conv_0_fsize: 3\n",
            "conv_1: 96\n",
            "conv_1_fsize: 5\n",
            "dense_units: 170\n",
            "lr: 0.0001\n",
            "conv_2: 32\n",
            "conv_2_fsize: 3\n",
            "conv_3: 160\n",
            "conv_3_fsize: 3\n",
            "Score: 0.9275000095367432\n",
            "Trial summary\n",
            "Hyperparameters:\n",
            "layer_count: 3\n",
            "conv_0: 96\n",
            "conv_0_fsize: 3\n",
            "conv_1: 64\n",
            "conv_1_fsize: 3\n",
            "dense_units: 90\n",
            "lr: 0.0001\n",
            "conv_2: 224\n",
            "conv_2_fsize: 3\n",
            "conv_3: 128\n",
            "conv_3_fsize: 5\n",
            "Score: 0.9265000224113464\n",
            "Trial summary\n",
            "Hyperparameters:\n",
            "layer_count: 3\n",
            "conv_0: 64\n",
            "conv_0_fsize: 5\n",
            "conv_1: 64\n",
            "conv_1_fsize: 3\n",
            "dense_units: 130\n",
            "lr: 0.0001\n",
            "conv_2: 64\n",
            "conv_2_fsize: 3\n",
            "conv_3: 192\n",
            "conv_3_fsize: 5\n",
            "Score: 0.9205999970436096\n",
            "Trial summary\n",
            "Hyperparameters:\n",
            "layer_count: 3\n",
            "conv_0: 224\n",
            "conv_0_fsize: 3\n",
            "conv_1: 96\n",
            "conv_1_fsize: 5\n",
            "dense_units: 170\n",
            "lr: 0.001\n",
            "conv_2: 160\n",
            "conv_2_fsize: 5\n",
            "conv_3: 64\n",
            "conv_3_fsize: 3\n",
            "Score: 0.9172999858856201\n",
            "Trial summary\n",
            "Hyperparameters:\n",
            "layer_count: 3\n",
            "conv_0: 224\n",
            "conv_0_fsize: 3\n",
            "conv_1: 128\n",
            "conv_1_fsize: 5\n",
            "dense_units: 50\n",
            "lr: 0.001\n",
            "conv_2: 32\n",
            "conv_2_fsize: 3\n",
            "Score: 0.9150000214576721\n",
            "Trial summary\n",
            "Hyperparameters:\n",
            "layer_count: 4\n",
            "conv_0: 64\n",
            "conv_0_fsize: 5\n",
            "conv_1: 96\n",
            "conv_1_fsize: 3\n",
            "dense_units: 130\n",
            "lr: 0.001\n",
            "conv_2: 192\n",
            "conv_2_fsize: 3\n",
            "conv_3: 32\n",
            "conv_3_fsize: 3\n",
            "Score: 0.914900004863739\n",
            "Trial summary\n",
            "Hyperparameters:\n",
            "layer_count: 2\n",
            "conv_0: 128\n",
            "conv_0_fsize: 3\n",
            "conv_1: 64\n",
            "conv_1_fsize: 3\n",
            "dense_units: 170\n",
            "lr: 0.001\n",
            "conv_2: 192\n",
            "conv_2_fsize: 5\n",
            "conv_3: 64\n",
            "conv_3_fsize: 3\n",
            "Score: 0.9144999980926514\n",
            "Trial summary\n",
            "Hyperparameters:\n",
            "layer_count: 4\n",
            "conv_0: 96\n",
            "conv_0_fsize: 5\n",
            "conv_1: 32\n",
            "conv_1_fsize: 3\n",
            "dense_units: 50\n",
            "lr: 0.0001\n",
            "conv_2: 256\n",
            "conv_2_fsize: 5\n",
            "conv_3: 32\n",
            "conv_3_fsize: 3\n",
            "Score: 0.9132000207901001\n",
            "Trial summary\n",
            "Hyperparameters:\n",
            "layer_count: 3\n",
            "conv_0: 32\n",
            "conv_0_fsize: 3\n",
            "conv_1: 96\n",
            "conv_1_fsize: 5\n",
            "dense_units: 130\n",
            "lr: 0.0001\n",
            "conv_2: 32\n",
            "conv_2_fsize: 5\n",
            "conv_3: 224\n",
            "conv_3_fsize: 3\n",
            "Score: 0.9125000238418579\n",
            "Trial summary\n",
            "Hyperparameters:\n",
            "layer_count: 2\n",
            "conv_0: 128\n",
            "conv_0_fsize: 5\n",
            "conv_1: 128\n",
            "conv_1_fsize: 3\n",
            "dense_units: 10\n",
            "lr: 0.001\n",
            "conv_2: 128\n",
            "conv_2_fsize: 3\n",
            "conv_3: 192\n",
            "conv_3_fsize: 5\n",
            "Score: 0.8902999758720398\n",
            "Trial summary\n",
            "Hyperparameters:\n",
            "layer_count: 4\n",
            "conv_0: 192\n",
            "conv_0_fsize: 3\n",
            "conv_1: 256\n",
            "conv_1_fsize: 5\n",
            "dense_units: 130\n",
            "lr: 0.01\n",
            "conv_2: 224\n",
            "conv_2_fsize: 3\n",
            "conv_3: 64\n",
            "conv_3_fsize: 3\n",
            "conv_4: 224\n",
            "conv_4_fsize: 5\n",
            "Score: 0.8406999707221985\n",
            "Trial summary\n",
            "Hyperparameters:\n",
            "layer_count: 5\n",
            "conv_0: 96\n",
            "conv_0_fsize: 5\n",
            "conv_1: 96\n",
            "conv_1_fsize: 3\n",
            "dense_units: 130\n",
            "lr: 0.01\n",
            "conv_2: 64\n",
            "conv_2_fsize: 3\n",
            "conv_3: 160\n",
            "conv_3_fsize: 3\n",
            "conv_4: 32\n",
            "conv_4_fsize: 3\n",
            "Score: 0.8352000117301941\n",
            "Trial summary\n",
            "Hyperparameters:\n",
            "layer_count: 3\n",
            "conv_0: 256\n",
            "conv_0_fsize: 5\n",
            "conv_1: 192\n",
            "conv_1_fsize: 3\n",
            "dense_units: 170\n",
            "lr: 0.01\n",
            "conv_2: 224\n",
            "conv_2_fsize: 3\n",
            "conv_3: 224\n",
            "conv_3_fsize: 3\n",
            "conv_4: 128\n",
            "conv_4_fsize: 5\n",
            "Score: 0.758400022983551\n"
          ],
          "name": "stdout"
        }
      ]
    },
    {
      "cell_type": "code",
      "metadata": {
        "id": "3kZ7dpIhnulY"
      },
      "source": [
        ""
      ],
      "execution_count": null,
      "outputs": []
    }
  ]
}